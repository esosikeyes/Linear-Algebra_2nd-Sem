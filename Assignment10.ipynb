{
  "nbformat": 4,
  "nbformat_minor": 0,
  "metadata": {
    "colab": {
      "name": "Untitled5.ipynb",
      "provenance": [],
      "authorship_tag": "ABX9TyPuNorLK1LOSdWk6HxK5j82",
      "include_colab_link": true
    },
    "kernelspec": {
      "name": "python3",
      "display_name": "Python 3"
    },
    "language_info": {
      "name": "python"
    }
  },
  "cells": [
    {
      "cell_type": "markdown",
      "metadata": {
        "id": "view-in-github",
        "colab_type": "text"
      },
      "source": [
        "<a href=\"https://colab.research.google.com/github/esosikeyes/Linear-Algebra_2nd-Sem/blob/main/Assignment10.ipynb\" target=\"_parent\"><img src=\"https://colab.research.google.com/assets/colab-badge.svg\" alt=\"Open In Colab\"/></a>"
      ]
    },
    {
      "cell_type": "markdown",
      "source": [
        "## Laboratory 10 : Linear Combination and Vector Spaces"
      ],
      "metadata": {
        "id": "-N5VSDYdEsVO"
      }
    },
    {
      "cell_type": "markdown",
      "source": [
        "Now that you have a fundamental knowledge about linear combination, we'll try to visualize it using scientific programming."
      ],
      "metadata": {
        "id": "s2c8HpM4EvPR"
      }
    },
    {
      "cell_type": "markdown",
      "source": [
        "### Objectives\n",
        "At the end of this activity you will be able to:\n",
        "1. Be familiar with representing linear combinations in the 2-dimensional plane.\n",
        "2. Visualize spans using vector fields in Python.\n",
        "3. Perform vector fields operations using scientific programming."
      ],
      "metadata": {
        "id": "2O4a82HCExHz"
      }
    },
    {
      "cell_type": "markdown",
      "source": [
        "## Discussion"
      ],
      "metadata": {
        "id": "_KWEo7IOEzTI"
      }
    },
    {
      "cell_type": "code",
      "source": [
        "import numpy as np\n",
        "import matplotlib.pyplot as plt\n",
        "%matplotlib inline"
      ],
      "metadata": {
        "id": "7ZBW7m-aE4q6"
      },
      "execution_count": 1,
      "outputs": []
    },
    {
      "cell_type": "markdown",
      "source": [
        "## Linear Combination"
      ],
      "metadata": {
        "id": "b4ewqisaE7cd"
      }
    },
    {
      "cell_type": "markdown",
      "source": [
        "It is said that a linear combination is the combination of linear scaling and addition of a vector its bases/components"
      ],
      "metadata": {
        "id": "LKfk1XqYE736"
      }
    },
    {
      "cell_type": "markdown",
      "source": [
        "We will try to visualize the vectors and their linear combinations by plotting a sample of real number values for the scalars for the vectors. Let's first try the vectors below:"
      ],
      "metadata": {
        "id": "edJBfOyiE-FZ"
      }
    },
    {
      "cell_type": "markdown",
      "source": [
        "$$X = \\begin{bmatrix} 9\\\\6 \\\\\\end{bmatrix} , Y = \\begin{bmatrix} 5\\\\10 \\\\\\end{bmatrix} $$"
      ],
      "metadata": {
        "id": "E2YAXPbBFARh"
      }
    },
    {
      "cell_type": "code",
      "source": [
        "vectX =  np.array([9,6])\n",
        "vectY =  np.array([5,10])"
      ],
      "metadata": {
        "id": "RjXs-OVnFE3V"
      },
      "execution_count": 4,
      "outputs": []
    },
    {
      "cell_type": "markdown",
      "source": [
        "#### Span of single vectors"
      ],
      "metadata": {
        "id": "1O0b7PpaFGlE"
      }
    },
    {
      "cell_type": "markdown",
      "source": [
        "As discussed in the lecture, the span of individual vectors can be represented by a line span. Let's take vector $X$ as an example."
      ],
      "metadata": {
        "id": "tfIai_onFHCf"
      }
    },
    {
      "cell_type": "markdown",
      "source": [
        "$$X = c\\cdot \\begin{bmatrix} 9\\\\6 \\\\\\end{bmatrix} $$"
      ],
      "metadata": {
        "id": "CSYpKDm1FLp7"
      }
    },
    {
      "cell_type": "code",
      "source": [
        "c = np.arange(-15,11,0.13)\n",
        "\n",
        "plt.scatter(c*vectX[0],c*vectX[1], color='orange')\n",
        "\n",
        "plt.xlim(-15,15)\n",
        "plt.ylim(-15,15)\n",
        "plt.axhline(y=0, color='k')\n",
        "plt.axvline(x=0, color='k')\n",
        "plt.grid()\n",
        "plt.show()"
      ],
      "metadata": {
        "colab": {
          "base_uri": "https://localhost:8080/",
          "height": 269
        },
        "id": "WRiCwU2SFJcH",
        "outputId": "cea91c8d-bec1-43a3-fb0d-1299a6d98e90"
      },
      "execution_count": 24,
      "outputs": [
        {
          "output_type": "display_data",
          "data": {
            "text/plain": [
              "<Figure size 432x288 with 1 Axes>"
            ],
            "image/png": "[encoded data removed]"
          },
          "metadata": {
            "needs_background": "light"
          }
        }
      ]
    },
    {
      "cell_type": "markdown",
      "source": [
        "$$Y = c\\cdot \\begin{bmatrix} 5\\\\10 \\\\\\end{bmatrix} $$"
      ],
      "metadata": {
        "id": "P9Ha9DwGFRCp"
      }
    },
    {
      "cell_type": "code",
      "source": [
        "c = np.arange(-19,14,0.48)\n",
        "\n",
        "plt.scatter(c*vectY[0],c*vectY[1], color='magenta')\n",
        "\n",
        "plt.xlim(-25,25)\n",
        "plt.ylim(-25,25)\n",
        "plt.axhline(y=0, color='k')\n",
        "plt.axvline(x=0, color='k')\n",
        "plt.grid()\n",
        "plt.show()"
      ],
      "metadata": {
        "colab": {
          "base_uri": "https://localhost:8080/",
          "height": 265
        },
        "id": "S5Risg7cFRs8",
        "outputId": "a26e81d4-75d6-4213-f238-a27ffd77c24c"
      },
      "execution_count": 30,
      "outputs": [
        {
          "output_type": "display_data",
          "data": {
            "text/plain": [
              "<Figure size 432x288 with 1 Axes>"
            ],
            "image/png": "[encoded data removed]"
          },
          "metadata": {
            "needs_background": "light"
          }
        }
      ]
    },
    {
      "cell_type": "markdown",
      "source": [
        "### Span of a linear combination of vectors"
      ],
      "metadata": {
        "id": "guuRdMlTFWkE"
      }
    },
    {
      "cell_type": "markdown",
      "source": [
        "So what if we are to plot the span of a linear combination of vectors? We can visualize as a plane on the 2-dimensional coordinate system. Let's take the span of the linear combination below:"
      ],
      "metadata": {
        "id": "z6ZCuNrcFYuC"
      }
    },
    {
      "cell_type": "markdown",
      "source": [
        "$$S = \\begin{Bmatrix} c_1 \\cdot\\begin{bmatrix} -1\\\\1 \\\\\\end{bmatrix}, \n",
        "c_2 \\cdot \\begin{bmatrix} 0\\\\-1 \\\\\\end{bmatrix}\\end{Bmatrix} $$"
      ],
      "metadata": {
        "id": "TugBaY5iFcq6"
      }
    },
    {
      "cell_type": "code",
      "source": [
        "vectA = np.array([-1,1])\n",
        "vectB = np.array([0,-1])\n",
        "\n",
        "R = np.arange(-18,12,0.67)\n",
        "\n",
        "c1, c2 = np.meshgrid(R,R)\n",
        "\n",
        "vectR = vectA + vectB\n",
        "spanRx = c1*vectA[0] + c2*vectB[0]\n",
        "spanRy = c1*vectA[1] + c2*vectB[1]\n",
        "##plt.scatter(R*vectA[0],R*vectA[1])\n",
        "##plt.scatter(R*vectB[0],R*vectB[1])\n",
        "plt.scatter(spanRx,spanRy, s=5, alpha=0.75, color='green')\n",
        "\n",
        "plt.axhline(y=0, color='k')\n",
        "plt.axvline(x=0, color='k')\n",
        "plt.grid()\n",
        "plt.show()"
      ],
      "metadata": {
        "colab": {
          "base_uri": "https://localhost:8080/",
          "height": 265
        },
        "id": "vASBQ99IFgxg",
        "outputId": "9e5fb6dd-ba17-4e88-a0ee-00bee17e5b55"
      },
      "execution_count": 31,
      "outputs": [
        {
          "output_type": "display_data",
          "data": {
            "text/plain": [
              "<Figure size 432x288 with 1 Axes>"
            ],
            "image/png": "[encoded data removed]"
          },
          "metadata": {
            "needs_background": "light"
          }
        }
      ]
    },
    {
      "cell_type": "code",
      "source": [
        "vectP = np.array([5,3])\n",
        "vectQ = np.array([6,2])\n",
        "\n",
        "R = np.arange(-21,17,1)\n",
        "\n",
        "c1, c2 = np.meshgrid(R,R)\n",
        "\n",
        "vectR = vectP + vectQ\n",
        "spanRx = c1*vectP[0] + c2*vectQ[0]\n",
        "spanRy = c1*vectP[1] + c2*vectQ[1]\n",
        "##plt.scatter(R*vectA[0],R*vectA[1])\n",
        "##plt.scatter(R*vectB[0],R*vectB[1])\n",
        "plt.scatter(spanRx,spanRy, s=5, alpha=0.75, color='red')\n",
        "\n",
        "plt.axhline(y=0, color='k')\n",
        "plt.axvline(x=0, color='k')\n",
        "plt.grid()\n",
        "plt.show()"
      ],
      "metadata": {
        "colab": {
          "base_uri": "https://localhost:8080/",
          "height": 265
        },
        "id": "dHcx9hLNFjtM",
        "outputId": "47b7b4cc-253e-47a7-876b-5c82d71986ac"
      },
      "execution_count": 38,
      "outputs": [
        {
          "output_type": "display_data",
          "data": {
            "text/plain": [
              "<Figure size 432x288 with 1 Axes>"
            ],
            "image/png": "[encoded data removed]"
          },
          "metadata": {
            "needs_background": "light"
          }
        }
      ]
    },
    {
      "cell_type": "markdown",
      "source": [
        "Take note that if vectors are seen to be as a 2-dimensional span we can say it has a Rank of 2 or $\\mathbb{R}^2$. But if the span of the linear combination of vectors are seen to be like a line, they are said to be <b> linearly dependent </b> and they have a rank of 1 or $\\mathbb{R}^1$."
      ],
      "metadata": {
        "id": "v4lksy3eFmYG"
      }
    },
    {
      "cell_type": "markdown",
      "source": [
        "# Activity"
      ],
      "metadata": {
        "id": "UQH1doNoFoI5"
      }
    },
    {
      "cell_type": "markdown",
      "source": [
        "### Task 1"
      ],
      "metadata": {
        "id": "WRcIuws8Fo42"
      }
    },
    {
      "cell_type": "markdown",
      "source": [
        "Try different linear combinations using different scalar values. In your methodology discuss the different functions that you have used, the  linear equation and vector form of the linear combination, and the flowchart for declaring and displaying linear combinations. Please make sure that your flowchart has only few words and not putting the entire code as it is bad practice. In your results, display and discuss the linear combination visualization you made. You should use the cells below for displaying the equation markdows using LaTeX and your code."
      ],
      "metadata": {
        "id": "1il9dJR9FqoO"
      }
    },
    {
      "cell_type": "markdown",
      "source": [
        "$$\n",
        "E= 2x \\\\ M=10x + 5y\\\\\n",
        "$$"
      ],
      "metadata": {
        "id": "sZdCDYQ3FsjA"
      }
    },
    {
      "cell_type": "markdown",
      "source": [
        "$$\n",
        "E=2\\hat{x} \\\\ M=10\\hat{x} + 5\\hat{y}\n",
        "$$"
      ],
      "metadata": {
        "id": "gwstd99BFu6a"
      }
    },
    {
      "cell_type": "markdown",
      "source": [
        "$$ E = \\begin{bmatrix} 2\\end{bmatrix} , M = \\begin{bmatrix} 10 \\\\ 5\\end{bmatrix}\n",
        "$$\n",
        "$$ E = \\begin{bmatrix} 2 \\end{bmatrix} , M = \\begin{bmatrix} 10 & 5\\end{bmatrix}\n",
        "$$"
      ],
      "metadata": {
        "id": "OuQjpfjrLh9Z"
      }
    },
    {
      "cell_type": "code",
      "source": [
        "vectE = np.array([2,0])\n",
        "vectM = np.array([-10,5])\n",
        "\n",
        "R = np.arange(-23,14,2)\n",
        "\n",
        "c1, c2 = np.meshgrid(R,R)\n",
        "\n",
        "vectR = vectE + vectM\n",
        "spanRx = c1*vectE[0] + c2*vectM[0]\n",
        "spanRy = c1*vectE[1] + c2*vectM[1]\n",
        "##plt.scatter(R*vectA[0],R*vectA[1])\n",
        "##plt.scatter(R*vectB[0],R*vectB[1])\n",
        "plt.scatter(spanRx,spanRy, s=5, alpha=0.75, color='cyan')\n",
        "\n",
        "plt.axhline(y=0, color='k')\n",
        "plt.axvline(x=0, color='k')\n",
        "plt.grid()\n",
        "plt.show()"
      ],
      "metadata": {
        "colab": {
          "base_uri": "https://localhost:8080/",
          "height": 265
        },
        "id": "yIMzKh0JF400",
        "outputId": "716dced8-bb5c-495a-c7ba-b36896238635"
      },
      "execution_count": 48,
      "outputs": [
        {
          "output_type": "display_data",
          "data": {
            "text/plain": [
              "<Figure size 432x288 with 1 Axes>"
            ],
            "image/png": "[encoded data removed]"
          },
          "metadata": {
            "needs_background": "light"
          }
        }
      ]
    },
    {
      "cell_type": "markdown",
      "source": [
        "## Conclusion guide"
      ],
      "metadata": {
        "id": "96wcC0yCF01Z"
      }
    },
    {
      "cell_type": "markdown",
      "source": [
        "For your conclusion synthesize the concept and application of the laboratory. Briefly discuss what you have learn and achieved in this activity. At the end of your conclusion try to answer the question : \"How can you apply the concept of linear combination in engineering or real-life situations?\"."
      ],
      "metadata": {
        "id": "EoVBG1rcF22t"
      }
    }
  ]
}