{
  "nbformat": 4,
  "nbformat_minor": 0,
  "metadata": {
    "colab": {
      "name": "Activity 1 - Python Fundamentals",
      "provenance": [],
      "collapsed_sections": [],
      "authorship_tag": "ABX9TyNTMekV02r00yiUjFjU3k9T",
      "include_colab_link": true
    },
    "kernelspec": {
      "name": "python3",
      "display_name": "Python 3"
    },
    "language_info": {
      "name": "python"
    }
  },
  "cells": [
    {
      "cell_type": "markdown",
      "metadata": {
        "id": "view-in-github",
        "colab_type": "text"
      },
      "source": [
        "<a href=\"https://colab.research.google.com/github/esosikeyes/Linear-Algebra_2nd-Sem/blob/main/Activity_1_Python_Fundamentals.ipynb\" target=\"_parent\"><img src=\"https://colab.research.google.com/assets/colab-badge.svg\" alt=\"Open In Colab\"/></a>"
      ]
    },
    {
      "cell_type": "markdown",
      "source": [
        "# Welcome to Python Fundamentals\n",
        "In this module, we are going to establish or review our skills in Python programming. In this notebook we are going to cover:\n",
        "* Variables and Data Types \n",
        "* Operations\n",
        "* Input and Output Operations\n",
        "* Logic Control\n",
        "* Iterables\n",
        "* Functions"
      ],
      "metadata": {
        "id": "gX_eVKvRsN5X"
      }
    },
    {
      "cell_type": "markdown",
      "source": [
        "## Variable and Data Types\n",
        "Variables and Data types in python as the name suggests are the values that vary. In a programming language, a variable is a memory location where you store a value. The value that you have stored may change in the future according to the specifications. A Variable in python is created as soon as a value is assigned to it. It does not need any additional commands to declare a variable in python [2]. On the other note, data types are the classification or categorization of data items. It represents the kind of value that tells what operations can be performed on a particular data. Since everything is an object in Python programming, data types are actually classes and variables are instances (object) of these classes [3].\n"
      ],
      "metadata": {
        "id": "1YbCdCEJtImH"
      }
    },
    {
      "cell_type": "code",
      "source": [
        "x = 1\n",
        "a,b = 0, -1"
      ],
      "metadata": {
        "id": "n485-9C4tTca"
      },
      "execution_count": 6,
      "outputs": []
    },
    {
      "cell_type": "code",
      "source": [
        "x = 2"
      ],
      "metadata": {
        "id": "VHpzi6xMue2t"
      },
      "execution_count": 7,
      "outputs": []
    },
    {
      "cell_type": "code",
      "source": [
        "type(x)"
      ],
      "metadata": {
        "id": "N2F9d3ayu_mf",
        "outputId": "3b45ddcc-3e33-4aee-e506-dd2b366be6f0",
        "colab": {
          "base_uri": "https://localhost:8080/"
        }
      },
      "execution_count": 8,
      "outputs": [
        {
          "output_type": "execute_result",
          "data": {
            "text/plain": [
              "int"
            ]
          },
          "metadata": {},
          "execution_count": 8
        }
      ]
    },
    {
      "cell_type": "code",
      "source": [
        "y = 1.0\n",
        "type(y)"
      ],
      "metadata": {
        "id": "F1i6yuofvZCW",
        "outputId": "20472746-fedb-4db4-e148-e9f13f2c67fd",
        "colab": {
          "base_uri": "https://localhost:8080/"
        }
      },
      "execution_count": 9,
      "outputs": [
        {
          "output_type": "execute_result",
          "data": {
            "text/plain": [
              "float"
            ]
          },
          "metadata": {},
          "execution_count": 9
        }
      ]
    },
    {
      "cell_type": "code",
      "source": [
        "x = float(x)\n",
        "type(x)"
      ],
      "metadata": {
        "id": "RUrsl-q4vigj",
        "outputId": "bc699e81-c5bb-4506-e250-0a4f731e6d62",
        "colab": {
          "base_uri": "https://localhost:8080/"
        }
      },
      "execution_count": 10,
      "outputs": [
        {
          "output_type": "execute_result",
          "data": {
            "text/plain": [
              "float"
            ]
          },
          "metadata": {},
          "execution_count": 10
        }
      ]
    },
    {
      "cell_type": "code",
      "source": [
        "s, t, u = \"0\", '1', 'one'\n",
        "type(t)"
      ],
      "metadata": {
        "id": "d5cH7r03vtd2",
        "outputId": "d92ccb30-372d-4467-91d6-8de103eede95",
        "colab": {
          "base_uri": "https://localhost:8080/"
        }
      },
      "execution_count": 3,
      "outputs": [
        {
          "output_type": "execute_result",
          "data": {
            "text/plain": [
              "str"
            ]
          },
          "metadata": {},
          "execution_count": 3
        }
      ]
    },
    {
      "cell_type": "code",
      "source": [
        "s_int = int(s)\n",
        "s_int"
      ],
      "metadata": {
        "id": "qyrvyb2xwnf4",
        "outputId": "28f7a063-056c-498a-8ee6-764ce1916aad",
        "colab": {
          "base_uri": "https://localhost:8080/"
        }
      },
      "execution_count": 4,
      "outputs": [
        {
          "output_type": "execute_result",
          "data": {
            "text/plain": [
              "0"
            ]
          },
          "metadata": {},
          "execution_count": 4
        }
      ]
    },
    {
      "cell_type": "code",
      "source": [
        "t_int = int(t)\n",
        "type(t)"
      ],
      "metadata": {
        "id": "T58eEU5mlwqP",
        "outputId": "e322c197-9ace-4fb1-cbb6-65f454cfdb4b",
        "colab": {
          "base_uri": "https://localhost:8080/"
        }
      },
      "execution_count": 5,
      "outputs": [
        {
          "output_type": "execute_result",
          "data": {
            "text/plain": [
              "str"
            ]
          },
          "metadata": {},
          "execution_count": 5
        }
      ]
    },
    {
      "cell_type": "markdown",
      "source": [
        "##Operations\n",
        "Operators are special symbols in Python that carry out arithmetic or logical computation. The value that the operator operates on is called the operand. According to TechVivan, an operator is a symbol that will perform mathematical operations on variables or on values. Operators operate on operands (values) and return a result [4].\n"
      ],
      "metadata": {
        "id": "L4PUuckwxRpL"
      }
    },
    {
      "cell_type": "markdown",
      "source": [
        "###Arithmetic\n",
        "Arithmetic operators are used to perform mathematical operations like Addition, Subtraction, Multiplication, Division, Exponentiation, Floor division, and Modulus [5].\n"
      ],
      "metadata": {
        "id": "c3DIQJDWxVlR"
      }
    },
    {
      "cell_type": "code",
      "source": [
        "a, b, c, d = 2.0, -0.5, 0, -32"
      ],
      "metadata": {
        "id": "TSXaTc_KyRFk"
      },
      "execution_count": 11,
      "outputs": []
    },
    {
      "cell_type": "code",
      "source": [
        "### Addition\n",
        "S = a+b\n",
        "S"
      ],
      "metadata": {
        "id": "chMgVMcgyfHK",
        "outputId": "be1cc260-3652-4228-bb50-d5932bce9c6b",
        "colab": {
          "base_uri": "https://localhost:8080/"
        }
      },
      "execution_count": 12,
      "outputs": [
        {
          "output_type": "execute_result",
          "data": {
            "text/plain": [
              "1.5"
            ]
          },
          "metadata": {},
          "execution_count": 12
        }
      ]
    },
    {
      "cell_type": "code",
      "source": [
        "### Subtraction\n",
        "D = b-d\n",
        "D"
      ],
      "metadata": {
        "id": "8yEg26_izNPj",
        "outputId": "10c9b02d-6261-4e8d-d039-726fbca0b7b3",
        "colab": {
          "base_uri": "https://localhost:8080/"
        }
      },
      "execution_count": 13,
      "outputs": [
        {
          "output_type": "execute_result",
          "data": {
            "text/plain": [
              "31.5"
            ]
          },
          "metadata": {},
          "execution_count": 13
        }
      ]
    },
    {
      "cell_type": "code",
      "source": [
        "### Multiplication\n",
        "P = a*d\n",
        "P"
      ],
      "metadata": {
        "id": "mOhraILZzYe0",
        "outputId": "427a6b56-f05b-4dcd-acde-0edf133fd884",
        "colab": {
          "base_uri": "https://localhost:8080/"
        }
      },
      "execution_count": 14,
      "outputs": [
        {
          "output_type": "execute_result",
          "data": {
            "text/plain": [
              "-64.0"
            ]
          },
          "metadata": {},
          "execution_count": 14
        }
      ]
    },
    {
      "cell_type": "code",
      "source": [
        "### Division\n",
        "Q = c/a\n",
        "Q"
      ],
      "metadata": {
        "id": "MHYiKVnWzgFc",
        "outputId": "8f52a84c-846a-455a-a928-9da052e87130",
        "colab": {
          "base_uri": "https://localhost:8080/"
        }
      },
      "execution_count": 15,
      "outputs": [
        {
          "output_type": "execute_result",
          "data": {
            "text/plain": [
              "0.0"
            ]
          },
          "metadata": {},
          "execution_count": 15
        }
      ]
    },
    {
      "cell_type": "code",
      "source": [
        "### Floor Division\n",
        "Fq = a//b\n",
        "Fq"
      ],
      "metadata": {
        "id": "tBIPl6Hwz0Ic",
        "outputId": "db716150-404a-4a7a-98f8-2065a11dc7ca",
        "colab": {
          "base_uri": "https://localhost:8080/"
        }
      },
      "execution_count": 16,
      "outputs": [
        {
          "output_type": "execute_result",
          "data": {
            "text/plain": [
              "-4.0"
            ]
          },
          "metadata": {},
          "execution_count": 16
        }
      ]
    },
    {
      "cell_type": "code",
      "source": [
        "### Exponentiation\n",
        "E = a**b\n",
        "E"
      ],
      "metadata": {
        "id": "cCnr3P_O0Mrr",
        "outputId": "02057a75-e1c7-4e8e-d186-d965e9166cb1",
        "colab": {
          "base_uri": "https://localhost:8080/"
        }
      },
      "execution_count": 17,
      "outputs": [
        {
          "output_type": "execute_result",
          "data": {
            "text/plain": [
              "0.7071067811865476"
            ]
          },
          "metadata": {},
          "execution_count": 17
        }
      ]
    },
    {
      "cell_type": "code",
      "source": [
        "### Modulo\n",
        "mod = d%a\n",
        "mod"
      ],
      "metadata": {
        "id": "IaGWBCjP0fqY",
        "outputId": "f4028fe4-cff7-4b78-d229-40af2ba924fd",
        "colab": {
          "base_uri": "https://localhost:8080/"
        }
      },
      "execution_count": 18,
      "outputs": [
        {
          "output_type": "execute_result",
          "data": {
            "text/plain": [
              "0.0"
            ]
          },
          "metadata": {},
          "execution_count": 18
        }
      ]
    },
    {
      "cell_type": "markdown",
      "source": [
        "### Assignment Operations\n",
        "Assignment operators are used in Python to assign values to variables. Also, a = 5 is a simple assignment operator that assigns the value 5 on the right to the variable a on the left. There are various compound operators in Python like a += 5 that adds to the variable and later assigns the same. It is equivalent to a = a + 5 [5]. Python has 8 assignment operators, which are:  Assign, Add and assign, Subtract and assign, Multiply and assign, Divide and assign, Modulus and assign, Exponentiation and assign, and Floor-divide and assign [4].\n"
      ],
      "metadata": {
        "id": "NErmJNlo1i7m"
      }
    },
    {
      "cell_type": "code",
      "source": [
        "G, H, J, K = 0, 100, 2, 3"
      ],
      "metadata": {
        "id": "ozLnwJdK1nrc"
      },
      "execution_count": 19,
      "outputs": []
    },
    {
      "cell_type": "code",
      "source": [
        "G += a\n",
        "G"
      ],
      "metadata": {
        "id": "LPolxrUF11WJ",
        "outputId": "ae647be0-9534-4dc2-ea50-5fe0f6156461",
        "colab": {
          "base_uri": "https://localhost:8080/"
        }
      },
      "execution_count": 20,
      "outputs": [
        {
          "output_type": "execute_result",
          "data": {
            "text/plain": [
              "2.0"
            ]
          },
          "metadata": {},
          "execution_count": 20
        }
      ]
    },
    {
      "cell_type": "code",
      "source": [
        "H -= d\n",
        "H"
      ],
      "metadata": {
        "id": "gjudGJaV2Aez",
        "outputId": "936deea8-8f07-4e3a-b622-a537d71da1a3",
        "colab": {
          "base_uri": "https://localhost:8080/"
        }
      },
      "execution_count": 21,
      "outputs": [
        {
          "output_type": "execute_result",
          "data": {
            "text/plain": [
              "132"
            ]
          },
          "metadata": {},
          "execution_count": 21
        }
      ]
    },
    {
      "cell_type": "code",
      "source": [
        "J *= 2\n",
        "J"
      ],
      "metadata": {
        "id": "56zVSjvs2CYf",
        "outputId": "dfe2df23-a46e-4744-d207-89cd0ab3a297",
        "colab": {
          "base_uri": "https://localhost:8080/"
        }
      },
      "execution_count": 22,
      "outputs": [
        {
          "output_type": "execute_result",
          "data": {
            "text/plain": [
              "4"
            ]
          },
          "metadata": {},
          "execution_count": 22
        }
      ]
    },
    {
      "cell_type": "code",
      "source": [
        "K **= 2\n",
        "K"
      ],
      "metadata": {
        "id": "Uun6qJuc3K4e",
        "outputId": "df9d77be-e12b-467a-8164-4523af43eb95",
        "colab": {
          "base_uri": "https://localhost:8080/"
        }
      },
      "execution_count": 23,
      "outputs": [
        {
          "output_type": "execute_result",
          "data": {
            "text/plain": [
              "9"
            ]
          },
          "metadata": {},
          "execution_count": 23
        }
      ]
    },
    {
      "cell_type": "markdown",
      "source": [
        "### Comparators\n",
        "Comparison operators are used to compare values. It returns either True or False according to the condition [5].\n"
      ],
      "metadata": {
        "id": "JTk-sNoS3Wpq"
      }
    },
    {
      "cell_type": "code",
      "source": [
        "res_1, res_2, res_3 = 1, 2.0, \"1\"\n",
        "true_val = 1.0"
      ],
      "metadata": {
        "id": "A7Cd0EMx3if4"
      },
      "execution_count": 24,
      "outputs": []
    },
    {
      "cell_type": "code",
      "source": [
        "## Equality\n",
        "res_1 == true_val"
      ],
      "metadata": {
        "id": "92Gv5Nrm3s6u",
        "outputId": "7ae95e26-4d71-4ed2-f15c-37c5d4d2fff6",
        "colab": {
          "base_uri": "https://localhost:8080/"
        }
      },
      "execution_count": 25,
      "outputs": [
        {
          "output_type": "execute_result",
          "data": {
            "text/plain": [
              "True"
            ]
          },
          "metadata": {},
          "execution_count": 25
        }
      ]
    },
    {
      "cell_type": "code",
      "source": [
        "## Non-equality\n",
        "res_2 != true_val"
      ],
      "metadata": {
        "id": "0Jw3W3Ba3zWD",
        "outputId": "4ef7cd5d-46ef-4f6f-c8d8-4cf665a2aa2a",
        "colab": {
          "base_uri": "https://localhost:8080/"
        }
      },
      "execution_count": 26,
      "outputs": [
        {
          "output_type": "execute_result",
          "data": {
            "text/plain": [
              "True"
            ]
          },
          "metadata": {},
          "execution_count": 26
        }
      ]
    },
    {
      "cell_type": "code",
      "source": [
        "## Inequality\n",
        "t1 = res_1 > res_2\n",
        "t2 = res_1 < res_2/2\n",
        "t3 = res_1 >= res_2/2\n",
        "t4 = res_1 <= res_2\n",
        "t3"
      ],
      "metadata": {
        "id": "8iE21mUD39NO",
        "outputId": "6fdfc242-c949-406e-d549-a63fe0ed5aaa",
        "colab": {
          "base_uri": "https://localhost:8080/"
        }
      },
      "execution_count": 27,
      "outputs": [
        {
          "output_type": "execute_result",
          "data": {
            "text/plain": [
              "True"
            ]
          },
          "metadata": {},
          "execution_count": 27
        }
      ]
    },
    {
      "cell_type": "markdown",
      "source": [
        "### Logical\n",
        "Logical operators can be categorized into three: The Logical and, Logical or, and Logical not [4].\n"
      ],
      "metadata": {
        "id": "s573nXf95Oxg"
      }
    },
    {
      "cell_type": "code",
      "source": [
        "res_1 == true_val"
      ],
      "metadata": {
        "id": "3KadEWgT5WEf",
        "outputId": "013465b5-74ea-452c-8b8e-31df5fe8900a",
        "colab": {
          "base_uri": "https://localhost:8080/"
        }
      },
      "execution_count": 28,
      "outputs": [
        {
          "output_type": "execute_result",
          "data": {
            "text/plain": [
              "True"
            ]
          },
          "metadata": {},
          "execution_count": 28
        }
      ]
    },
    {
      "cell_type": "code",
      "source": [
        "res_1 is true_val"
      ],
      "metadata": {
        "id": "XxuGN2KH5gVr",
        "outputId": "0e914b91-d9a2-489d-ed8c-992714ee4acf",
        "colab": {
          "base_uri": "https://localhost:8080/"
        }
      },
      "execution_count": 29,
      "outputs": [
        {
          "output_type": "execute_result",
          "data": {
            "text/plain": [
              "False"
            ]
          },
          "metadata": {},
          "execution_count": 29
        }
      ]
    },
    {
      "cell_type": "code",
      "source": [
        "res_1 is not true_val"
      ],
      "metadata": {
        "id": "TcyqZKm85nCl",
        "outputId": "ffb81909-6eab-495f-f8b0-1ecd4ef474b8",
        "colab": {
          "base_uri": "https://localhost:8080/"
        }
      },
      "execution_count": 30,
      "outputs": [
        {
          "output_type": "execute_result",
          "data": {
            "text/plain": [
              "True"
            ]
          },
          "metadata": {},
          "execution_count": 30
        }
      ]
    },
    {
      "cell_type": "code",
      "source": [
        "p, q = True, False\n",
        "conj = p and q\n",
        "conj"
      ],
      "metadata": {
        "id": "HktWu7h25wuw",
        "outputId": "b02e6ff0-b66e-4f2d-cee7-79c565bec042",
        "colab": {
          "base_uri": "https://localhost:8080/"
        }
      },
      "execution_count": 31,
      "outputs": [
        {
          "output_type": "execute_result",
          "data": {
            "text/plain": [
              "False"
            ]
          },
          "metadata": {},
          "execution_count": 31
        }
      ]
    },
    {
      "cell_type": "code",
      "source": [
        "p, q = True, False\n",
        "disj = p or q\n",
        "disj"
      ],
      "metadata": {
        "id": "blKTHC5m6oKK",
        "outputId": "7a7ce5fe-4cce-44ac-d3fe-467efc720073",
        "colab": {
          "base_uri": "https://localhost:8080/"
        }
      },
      "execution_count": 32,
      "outputs": [
        {
          "output_type": "execute_result",
          "data": {
            "text/plain": [
              "True"
            ]
          },
          "metadata": {},
          "execution_count": 32
        }
      ]
    },
    {
      "cell_type": "code",
      "source": [
        "p, q = True, False\n",
        "e = not (p and q)\n",
        "e"
      ],
      "metadata": {
        "id": "wAvsc48c7Pss",
        "outputId": "b21acefb-5de2-4bba-e7ea-67e84fb02c01",
        "colab": {
          "base_uri": "https://localhost:8080/"
        }
      },
      "execution_count": 33,
      "outputs": [
        {
          "output_type": "execute_result",
          "data": {
            "text/plain": [
              "True"
            ]
          },
          "metadata": {},
          "execution_count": 33
        }
      ]
    },
    {
      "cell_type": "code",
      "source": [
        "p, q = True, False\n",
        "xor = (not p and q) or (p and not q)\n",
        "xor"
      ],
      "metadata": {
        "id": "LiHKB2vD7ald",
        "outputId": "39e558f8-5cdc-4be1-bc95-0de29b6b37a4",
        "colab": {
          "base_uri": "https://localhost:8080/"
        }
      },
      "execution_count": 34,
      "outputs": [
        {
          "output_type": "execute_result",
          "data": {
            "text/plain": [
              "True"
            ]
          },
          "metadata": {},
          "execution_count": 34
        }
      ]
    },
    {
      "cell_type": "markdown",
      "source": [
        "## I/O\n",
        "Python provides numerous built-in functions that are readily available to us at the Python prompt. Some of the functions like input() and print() are widely used for standard input and output operations respectively [6]. Input is any information or data sent to the computer from the user through the keyboard, while Output is information produced by the computer to the user. Python provides us with the two inbuilt functions as input() and output() [7].\n",
        "The syntax for input is input(prompt_message); the python will automatically identify whether the user entered a string, number, or list; if the input entered from the user is not correct, then python will throw a syntax error. And the syntax for the output in python is print(), normally used to print the output [7].\n"
      ],
      "metadata": {
        "id": "TGL37RBh7vRg"
      }
    },
    {
      "cell_type": "code",
      "source": [
        "print(\"Hello World\")"
      ],
      "metadata": {
        "id": "6EyJvDWd7x36",
        "outputId": "8dce605a-ed76-4d65-af90-cdd24a4cd0d9",
        "colab": {
          "base_uri": "https://localhost:8080/"
        }
      },
      "execution_count": 35,
      "outputs": [
        {
          "output_type": "stream",
          "name": "stdout",
          "text": [
            "Hello World\n"
          ]
        }
      ]
    },
    {
      "cell_type": "code",
      "source": [
        "cnt = 1"
      ],
      "metadata": {
        "id": "ZYOtSGdK7-rT"
      },
      "execution_count": 36,
      "outputs": []
    },
    {
      "cell_type": "code",
      "source": [
        "string = \"Hello World\"\n",
        "print(string, \"Current run count is:\", cnt)\n",
        "cnt += 1"
      ],
      "metadata": {
        "id": "phA3eVGM8B4t",
        "outputId": "b8fdfdca-16cb-42bf-9b7c-79c27b58146d",
        "colab": {
          "base_uri": "https://localhost:8080/"
        }
      },
      "execution_count": 37,
      "outputs": [
        {
          "output_type": "stream",
          "name": "stdout",
          "text": [
            "Hello World Current run count is: 1\n"
          ]
        }
      ]
    },
    {
      "cell_type": "code",
      "source": [
        "print(f\"{string}, Current count is: {cnt}\")"
      ],
      "metadata": {
        "id": "aEwtpb2M8TT9",
        "outputId": "aceba214-83cc-4ded-fdf5-5fbe1efebd8c",
        "colab": {
          "base_uri": "https://localhost:8080/"
        }
      },
      "execution_count": 38,
      "outputs": [
        {
          "output_type": "stream",
          "name": "stdout",
          "text": [
            "Hello World, Current count is: 2\n"
          ]
        }
      ]
    },
    {
      "cell_type": "code",
      "source": [
        "sem_grade = 82.24356465761234\n",
        "name = \"Dazai\"\n",
        "print(\"Hello {}, your semestral grade is: {}\".format(name, sem_grade))"
      ],
      "metadata": {
        "id": "QEGOPBLx9Tb0",
        "outputId": "c5612aac-6d8d-4130-bfc9-d5f45892b1e8",
        "colab": {
          "base_uri": "https://localhost:8080/"
        }
      },
      "execution_count": 39,
      "outputs": [
        {
          "output_type": "stream",
          "name": "stdout",
          "text": [
            "Hello Dazai, your semestral grade is: 82.24356465761234\n"
          ]
        }
      ]
    },
    {
      "cell_type": "code",
      "source": [
        "w_pg, w_mg, w_fg = 0.3, 0.3, 0.4\n",
        "print(\"The weights of your semestral grades are:\\\n",
        "\\n\\t{:.2%} for Prelims\\\n",
        "\\n\\t{:.2%} for Midterms, and\\\n",
        "\\n\\t{:.2%} for Finals.\".format(w_pg, w_mg, w_fg))"
      ],
      "metadata": {
        "id": "RcZdqTocAFmT",
        "outputId": "5ccc19e7-0d31-454b-9da4-34a8d3888821",
        "colab": {
          "base_uri": "https://localhost:8080/"
        }
      },
      "execution_count": 40,
      "outputs": [
        {
          "output_type": "stream",
          "name": "stdout",
          "text": [
            "The weights of your semestral grades are:\n",
            "\t30.00% for Prelims\n",
            "\t30.00% for Midterms, and\n",
            "\t40.00% for Finals.\n"
          ]
        }
      ]
    },
    {
      "cell_type": "code",
      "source": [
        "x = input(\"enter a number: \")\n",
        "x"
      ],
      "metadata": {
        "id": "AWRYz48ouPaa",
        "outputId": "0b6333b3-4539-4ec6-9e1a-168ca4594e5b",
        "colab": {
          "base_uri": "https://localhost:8080/",
          "height": 54
        }
      },
      "execution_count": 41,
      "outputs": [
        {
          "name": "stdout",
          "output_type": "stream",
          "text": [
            "enter a number: 4\n"
          ]
        },
        {
          "output_type": "execute_result",
          "data": {
            "application/vnd.google.colaboratory.intrinsic+json": {
              "type": "string"
            },
            "text/plain": [
              "'4'"
            ]
          },
          "metadata": {},
          "execution_count": 41
        }
      ]
    },
    {
      "cell_type": "code",
      "source": [
        "name = input(\"Kimi no nawa: \")\n",
        "pg = input(\"Enter prelim grade: \")\n",
        "mg = input(\"Enter midterm grade: \")\n",
        "fg = input(\"Enter finals grade: \")\n",
        "sem_grade = (pg*(0.3))+(mg*(0.3))+(fg*(0.4))\n",
        "print(\"Hello {}, your semestral grade is: {}\".format(name, sem_grade))"
      ],
      "metadata": {
        "id": "C0pcOloRumw6"
      },
      "execution_count": null,
      "outputs": []
    },
    {
      "cell_type": "code",
      "source": [
        "name = input(\"Kimi no nawa: \")\n",
        "pg = input(\"Enter prelim grade: \")\n",
        "mg = input(\"Enter midterm grade: \")\n",
        "fg = input(\"Enter finals grade: \")\n",
        "sem_grade = None\n",
        "print(\"Hello {}, your semestral grade is: {}\".format(name, sem_grade))"
      ],
      "metadata": {
        "outputId": "a3280395-1272-43f1-8095-5a745ac0e3ca",
        "colab": {
          "base_uri": "https://localhost:8080/"
        },
        "id": "rsYp9AjDvxqH"
      },
      "execution_count": null,
      "outputs": [
        {
          "output_type": "stream",
          "name": "stdout",
          "text": [
            "Kimi no nawa: Eliah\n",
            "Enter prelim grade: 1.8\n",
            "Enter midterm grade: 2.2\n",
            "Enter finals grade: 1.8\n",
            "Hello Eliah, your semestral grade is: None\n"
          ]
        }
      ]
    },
    {
      "cell_type": "markdown",
      "source": [
        "##Looping Statements\n",
        "\n",
        "A loop statement in Python allows us to execute a statement or group of statements multiple times [8]. There are two types of loops available in Python, those are: while loop, for loop.\n",
        "\n",
        "\n",
        "\n",
        "\n"
      ],
      "metadata": {
        "id": "hvyEBlsAv9_2"
      }
    },
    {
      "cell_type": "markdown",
      "source": [
        "###While\n",
        "While loop statement executes a block of statements repeatedly as long as the condition is TRUE [8]. It tests the condition before executing the loop body.\n"
      ],
      "metadata": {
        "id": "n36njcMVwFg_"
      }
    },
    {
      "cell_type": "code",
      "source": [
        "## while loops\n",
        "i, j = 0, 10\n",
        "while(i<=j):\n",
        "  print(f\"{i}\\t|\\t{j}\")\n",
        "  i+=1"
      ],
      "metadata": {
        "id": "PrLI7po2wHiG",
        "outputId": "9f6807ac-b6f3-44c2-951f-ac2803318619",
        "colab": {
          "base_uri": "https://localhost:8080/"
        }
      },
      "execution_count": 42,
      "outputs": [
        {
          "output_type": "stream",
          "name": "stdout",
          "text": [
            "0\t|\t10\n",
            "1\t|\t10\n",
            "2\t|\t10\n",
            "3\t|\t10\n",
            "4\t|\t10\n",
            "5\t|\t10\n",
            "6\t|\t10\n",
            "7\t|\t10\n",
            "8\t|\t10\n",
            "9\t|\t10\n",
            "10\t|\t10\n"
          ]
        }
      ]
    },
    {
      "cell_type": "markdown",
      "source": [
        "##For\n",
        "For loop statement is an iterator-based loop, which steps through the items of iterable objects like lists, tuples, strings and executes a piece of code repeatedly for a number of times, based on the number of items in that iterable object [8]. For execute a sequence of statements multiple times and abbreviate the code that manages the loop variable.\n",
        "\n"
      ],
      "metadata": {
        "id": "sCInxYZoxYsD"
      }
    },
    {
      "cell_type": "code",
      "source": [
        "#for(int i=0; i<10; i++){\n",
        "#printf(i)\n",
        "#}\n",
        "\n",
        "i=0\n",
        "for i in range(10):\n",
        "  print(i)"
      ],
      "metadata": {
        "id": "aoKu4IV6xcE_",
        "outputId": "20424874-f749-477f-ee51-fb2ed8852af4",
        "colab": {
          "base_uri": "https://localhost:8080/"
        }
      },
      "execution_count": 43,
      "outputs": [
        {
          "output_type": "stream",
          "name": "stdout",
          "text": [
            "0\n",
            "1\n",
            "2\n",
            "3\n",
            "4\n",
            "5\n",
            "6\n",
            "7\n",
            "8\n",
            "9\n"
          ]
        }
      ]
    },
    {
      "cell_type": "code",
      "source": [
        "playlist = [\"Rayuma\", \"Besitos\", \"Venice B\"]\n",
        "print('Now Playing:\\n')\n",
        "for song in playlist:\n",
        "  print(song)"
      ],
      "metadata": {
        "id": "jwd8pSKvyHYN",
        "outputId": "71ce7599-e89e-4d46-876e-d4460e29793b",
        "colab": {
          "base_uri": "https://localhost:8080/"
        }
      },
      "execution_count": 44,
      "outputs": [
        {
          "output_type": "stream",
          "name": "stdout",
          "text": [
            "Now Playing:\n",
            "\n",
            "Rayuma\n",
            "Besitos\n",
            "Venice B\n"
          ]
        }
      ]
    },
    {
      "cell_type": "markdown",
      "source": [
        "##Flow Control\n"
      ],
      "metadata": {
        "id": "DfL8xilbyutV"
      }
    },
    {
      "cell_type": "markdown",
      "source": [
        "##Condition Statements\n",
        "Conditional Statements in Python perform different computations or actions depending on whether a specific Boolean constraint evaluates to true or false. Conditional statements are handled by IF statements in Python [9]. Python has six conditional statements, which are: If the statement, If else statement, Nested if statement, If…Elif ladder, ShortHand if statement, ShortHand if-else statement\n"
      ],
      "metadata": {
        "id": "puz_Jgnky0vl"
      }
    },
    {
      "cell_type": "code",
      "source": [
        "numeral1, numeral2 = 12, 12\n",
        "if(numeral1 == numeral2):\n",
        "  print (\"Yey\")\n",
        "elif(numeral1 > numeral2):\n",
        "  print(\"Hoho\")\n",
        "else: \n",
        "  print(\"Aww\")"
      ],
      "metadata": {
        "id": "fMOVXD8fy4Xo",
        "outputId": "4f0a8843-c540-4915-df92-629aa201f2b5",
        "colab": {
          "base_uri": "https://localhost:8080/"
        }
      },
      "execution_count": 45,
      "outputs": [
        {
          "output_type": "stream",
          "name": "stdout",
          "text": [
            "Yey\n"
          ]
        }
      ]
    },
    {
      "cell_type": "markdown",
      "source": [
        "##Functions\n",
        "Functions are an essential part of the Python programming language. In Python, a function is a group of related statements that performs a specific task. Functions help break our program into smaller and modular chunks. As our program grows larger and larger, functions make it more organized and manageable. Furthermore, it avoids repetition and makes the code reusable [10].\n"
      ],
      "metadata": {
        "id": "bAeQ1-491f3v"
      }
    },
    {
      "cell_type": "code",
      "source": [
        "# void DeleteUser(int userid){\n",
        "# delete(userid);\n",
        "#}\n",
        "\n",
        "def delete_user (userid):\n",
        "  print(\"Succesfuly deleted user: {}\".format(userid))\n",
        "\n",
        "def delete_all_users ():\n",
        "  print(\"Succesfully deleted all users\")"
      ],
      "metadata": {
        "id": "cNAZ_jdW1h7J"
      },
      "execution_count": 46,
      "outputs": []
    },
    {
      "cell_type": "code",
      "source": [
        "userid = 0\n",
        "delete_user(0)\n",
        "delete_all_users()"
      ],
      "metadata": {
        "id": "2ZDaA6Bi2Amm",
        "outputId": "61703517-c85f-4d61-c16a-d9a71c55e3b7",
        "colab": {
          "base_uri": "https://localhost:8080/"
        }
      },
      "execution_count": 47,
      "outputs": [
        {
          "output_type": "stream",
          "name": "stdout",
          "text": [
            "Succesfuly deleted user: 0\n",
            "Succesfully deleted all users\n"
          ]
        }
      ]
    },
    {
      "cell_type": "code",
      "source": [
        "def add(addend1, addend2):\n",
        "  return addend1 + addend2\n",
        "\n",
        "def power_of_base2(exponent):\n",
        "  return 2**exponent"
      ],
      "metadata": {
        "id": "-CFJ2zvx2jW7"
      },
      "execution_count": 48,
      "outputs": []
    },
    {
      "cell_type": "code",
      "source": [
        "#addend1, addend2 = 24, 25\n",
        "#add(addend1, addend2)\n",
        "\n",
        "exponent = 8\n",
        "power_of_base2(exponent)"
      ],
      "metadata": {
        "id": "GPCS_kYG3y_v",
        "outputId": "37448243-5ed7-4228-f8bf-44304e9596a4",
        "colab": {
          "base_uri": "https://localhost:8080/"
        }
      },
      "execution_count": 49,
      "outputs": [
        {
          "output_type": "execute_result",
          "data": {
            "text/plain": [
              "256"
            ]
          },
          "metadata": {},
          "execution_count": 49
        }
      ]
    },
    {
      "cell_type": "markdown",
      "source": [
        "#Grade Calculator"
      ],
      "metadata": {
        "id": "vOOFOT9doYk1"
      }
    },
    {
      "cell_type": "code",
      "source": [
        "print(\"SEMESTRAL GRADE CALCULATOR\\n\")\n",
        "\n",
        "g1 = 70.00\n",
        "name = input(\"Name: \")\n",
        "program = input(\"Program: \")\n",
        "course = input(\"Course: \")\n",
        "pg = float(input(\"\\nPrelim grade: \"))\n",
        "mg = float(input(\"Midterm grade: \"))\n",
        "fg = float(input(\"Finals grade: \"))\n",
        "sg = (pg * 0.30) + (mg * 0.30) + (fg * 0.40)\n",
        "\n",
        "if(sg == g1):\n",
        "  print(\"\\nGood day! Your semestral grade is {:2.2f} \\U0001F606\".format(sg))\n",
        "elif(sg > g1):\n",
        "  print(\"\\nGood day! Your semestral grade is {:2.2f} \\U0001F600\".format(sg))\n",
        "elif(sg < g1): \n",
        "  print(\"\\nGood day! Your semestral grade is {:2.2f} \\U0001F62D\".format(sg))"
      ],
      "metadata": {
        "id": "9aQ8dI2ruSL5",
        "outputId": "157c3a56-0624-4f1d-a5d9-5165d646904b",
        "colab": {
          "base_uri": "https://localhost:8080/"
        }
      },
      "execution_count": 53,
      "outputs": [
        {
          "output_type": "stream",
          "name": "stdout",
          "text": [
            "SEMESTRAL GRADE CALCULATOR\n",
            "\n",
            "Name: Eliah Concepcion\n",
            "Program: Chemical Engineering\n",
            "Course: Linear Algebra Programming Lab\n",
            "\n",
            "Prelim grade: 70\n",
            "Midterm grade: 70\n",
            "Finals grade: 70\n",
            "\n",
            "Good day! Your semestral grade is 70.00 😆\n"
          ]
        }
      ]
    }
  ]
}