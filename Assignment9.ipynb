{
  "nbformat": 4,
  "nbformat_minor": 0,
  "metadata": {
    "colab": {
      "name": "Untitled4.ipynb",
      "provenance": [],
      "authorship_tag": "ABX9TyMAwxgb+UNU9a2/BtFsXiCZ",
      "include_colab_link": true
    },
    "kernelspec": {
      "name": "python3",
      "display_name": "Python 3"
    },
    "language_info": {
      "name": "python"
    }
  },
  "cells": [
    {
      "cell_type": "markdown",
      "metadata": {
        "id": "view-in-github",
        "colab_type": "text"
      },
      "source": [
        "<a href=\"https://colab.research.google.com/github/esosikeyes/Linear-Algebra_2nd-Sem/blob/main/Assignment9.ipynb\" target=\"_parent\"><img src=\"https://colab.research.google.com/assets/colab-badge.svg\" alt=\"Open In Colab\"/></a>"
      ]
    },
    {
      "cell_type": "markdown",
      "source": [
        "#Plotting Vector using NumPy and MatPlotLib"
      ],
      "metadata": {
        "id": "SkhuzjqfjsBs"
      }
    },
    {
      "cell_type": "markdown",
      "source": [
        "In this laboratory we will be discussing the basics of numerical and scientific programming by working with Vectors using NumPy and MatPlotLib."
      ],
      "metadata": {
        "id": "MGVcjE6jjw4r"
      }
    },
    {
      "cell_type": "markdown",
      "source": [
        "### Objectives\n",
        "At the end of this activity you will be able to:\n",
        "1. Be familiar with the libraries in Python for numerical and scientific programming.\n",
        "2. Visualize vectors through Python programming.\n",
        "3. Perform simple vector operations through code."
      ],
      "metadata": {
        "id": "2AVk5MJDjzCn"
      }
    },
    {
      "cell_type": "markdown",
      "source": [
        "## Discussion"
      ],
      "metadata": {
        "id": "vAAtgw6mj1M6"
      }
    },
    {
      "cell_type": "markdown",
      "source": [
        "### NumPy"
      ],
      "metadata": {
        "id": "RjTP0elQj3Fi"
      }
    },
    {
      "cell_type": "markdown",
      "source": [
        "NumPy, often known as Numerical Python or Numeric Python, is a library that contains multidimensional array objects and routines for processing them [1]. Because NumPy arrays, unlike lists, are stored in a single continuous location in memory, processes may access and modify them quickly, and NumPy is quicker than lists [2]. The NumPy package introduces arrays, a new data format that facilitates vector and matrix operations as well as mathematical and logical functions. It supports a variety of linear algebra operations, including the solution of systems of linear equations, as well as the computation of Eigenvectors and Eigenvalues [3]. NumPy enriches the programming language Python with powerful data structures, implementing multi-dimensional arrays and matrices. These data structures guarantee efficient calculations with matrices and arrays. The implementation is even aiming at huge matrices and arrays, better known under the heading of \"big data\". Besides that, the NumPy supplies a large library of high-level mathematical functions to operate on these matrices and arrays [4]. Moreover, the  Numerical Python is capable of declaring computing and representing matrices and most Python scientific programming libraries use NumPy as the basic code.\n",
        "The laboratory activity also mentioned that the one that represents magnitude or a single value is Scalar, while the Vectors are the ones who represent magnitude with directors.\n"
      ],
      "metadata": {
        "id": "zLoXMYJCOaHm"
      }
    },
    {
      "cell_type": "markdown",
      "source": [
        "Scalars \\\\\n",
        "Array is a data type that NumPy provides. Although an array and a list appear to be very similar, an array can only include elements of the same type, but a list can contain objects of many types. This means arrays to store data more efficiently. It also makes arrays the preferred data structure for numerical calculations involving vectors and matrices. Vectors and matrices are all called “arrays” in NumPy [3].\n",
        "\n",
        "\n",
        "Vectors \\\\\n",
        "Importing an array module into Python creates single-dimensional arrays. The array module implementation does not allow for the creation of multi-dimensional arrays. The import array class is used to construct vectors. However, vectors are used for a variety of operations. Basic addition, subtraction, multiplication, and division are among the operations. Dot product and cross product of two vectors are two more operations [5].\n",
        "It is also possible to do operations that are not available in the array module. Single-dimensional arrays and multidimensional arrays can both be implemented. NumPy is a package that contains all of the functions needed to perform quicker operations on arrays and vectors. The NumPy module, for example, is imported into the python program to perform the requisite vector operations [5].\n"
      ],
      "metadata": {
        "id": "-OfGkf5qj67h"
      }
    },
    {
      "cell_type": "markdown",
      "source": [
        "#### Representing Vectors"
      ],
      "metadata": {
        "id": "BhOQc-2Vj9KL"
      }
    },
    {
      "cell_type": "markdown",
      "source": [
        "NumPy’s main data structure is the multidimensional array, and to create a vector, we simply create a one-dimensional array. Vector is built from components, which are ordinary numbers. We can think of a vector as a list of numbers, and vector algebra as operations performed on the numbers in the list [7]. Just like vectors, these arrays can be represented horizontally, such as rows, or vertically just like columns, we use np.array method [6].\n"
      ],
      "metadata": {
        "id": "wnBTkyv7OlpW"
      }
    },
    {
      "cell_type": "markdown",
      "source": [
        "Now that you know how to represent vectors using their component and matrix form we can now hard-code them in Python. Let's say that you have the vectors:"
      ],
      "metadata": {
        "id": "RPshdte6kAek"
      }
    },
    {
      "cell_type": "markdown",
      "source": [
        "$$ A = 10\\hat{x} + 20\\hat{y} - 30\\hat{z} \\\\\n",
        "B = 40\\hat{u} + 50\\hat{i}\\\\\n",
        "C = 3ax + 6ay - 9az \\\\\n",
        "D = 8\\hat{j} - 6\\hat{k}$$"
      ],
      "metadata": {
        "id": "U4CtveDekC4I"
      }
    },
    {
      "cell_type": "markdown",
      "source": [
        "In which it's matrix equivalent is:"
      ],
      "metadata": {
        "id": "yLKQFn2ekEwu"
      }
    },
    {
      "cell_type": "markdown",
      "source": [
        "$$ A = \\begin{bmatrix} 10 \\\\ 20 \\\\ -30\\end{bmatrix} , B = \\begin{bmatrix} 40 \\\\ 50\\end{bmatrix} , C = \\begin{bmatrix} 3 \\\\ 6 \\\\  -9 \\end{bmatrix}, D = \\begin{bmatrix} 8 \\\\ -6 \\end{bmatrix}\n",
        "$$\n",
        "$$ A = \\begin{bmatrix} 10 & 20 & -30\\end{bmatrix} , B = \\begin{bmatrix} 40 & 50\\end{bmatrix} , C = \\begin{bmatrix} 3 & 6 & -9\\end{bmatrix} , D = \\begin{bmatrix} 8 & -6\\end{bmatrix} \n",
        "$$"
      ],
      "metadata": {
        "id": "qC2rdK4ukGwC"
      }
    },
    {
      "cell_type": "markdown",
      "source": [
        "We can then start doing numpy code with this by:"
      ],
      "metadata": {
        "id": "V_AgqC5PkIh6"
      }
    },
    {
      "cell_type": "code",
      "source": [
        "## Importing necessary libraries\n",
        "import numpy as np ## 'np' here is short-hand name of the library (numpy) or a nickname."
      ],
      "metadata": {
        "id": "jzls657qkM85"
      },
      "execution_count": null,
      "outputs": []
    },
    {
      "cell_type": "code",
      "source": [
        "B = np.array([40, 50])\n",
        "D = np.array([8, -6])\n",
        "A = np.array([\n",
        "              [10],\n",
        "              [20],\n",
        "              [-30]\n",
        "])\n",
        "C = np.array ([[3],\n",
        "              [6],\n",
        "              [-9]])\n",
        "print('Vector A is ', A)\n",
        "print('Vector B is ', B)\n",
        "print('Vector C is ', C)\n",
        "print('Vector D is ', D)"
      ],
      "metadata": {
        "colab": {
          "base_uri": "https://localhost:8080/"
        },
        "id": "OstYY0RmkNai",
        "outputId": "271e08d7-612a-48c1-8c78-b70c421eb119"
      },
      "execution_count": null,
      "outputs": [
        {
          "output_type": "stream",
          "name": "stdout",
          "text": [
            "Vector A is  [[ 10]\n",
            " [ 20]\n",
            " [-30]]\n",
            "Vector B is  [40 50]\n",
            "Vector C is  [[ 3]\n",
            " [ 6]\n",
            " [-9]]\n",
            "Vector D is  [ 8 -6]\n"
          ]
        }
      ]
    },
    {
      "cell_type": "markdown",
      "source": [
        "#### Describing vectors in NumPy"
      ],
      "metadata": {
        "id": "x-0V2IHWkQ7k"
      }
    },
    {
      "cell_type": "markdown",
      "source": [
        "Describing vectors is very important if we want to perform basic to advanced operations with them. The fundamental ways in describing vectors are knowing their shape, size and dimensions."
      ],
      "metadata": {
        "id": "UvVHHIVykRTG"
      }
    },
    {
      "cell_type": "markdown",
      "source": [
        "In order to execute basic to complex operations using vectors, we must first define them. Knowing the shape, size, and dimensions of vectors are the most basic ways to describe them.\n"
      ],
      "metadata": {
        "id": "4mn9EXqIOqbh"
      }
    },
    {
      "cell_type": "code",
      "source": [
        "### Checking shapes\n",
        "### Shapes tells us how many elements are there on each row and column\n",
        "\n",
        "A.shape\n",
        "H = np.array([5, 10, 15, 20])\n",
        "D.shape\n",
        "H.shape"
      ],
      "metadata": {
        "colab": {
          "base_uri": "https://localhost:8080/"
        },
        "id": "iH30moCokWxB",
        "outputId": "b67dd1a7-c973-431e-9217-f74b2d98b652"
      },
      "execution_count": null,
      "outputs": [
        {
          "output_type": "execute_result",
          "data": {
            "text/plain": [
              "(4,)"
            ]
          },
          "metadata": {},
          "execution_count": 24
        }
      ]
    },
    {
      "cell_type": "code",
      "source": [
        "### Checking size\n",
        "### Array/Vector sizes tells us many total number of elements are there in the vector\n",
        "\n",
        "D.size"
      ],
      "metadata": {
        "colab": {
          "base_uri": "https://localhost:8080/"
        },
        "id": "pyAW4P6CkXLc",
        "outputId": "f396e6a1-e65d-4292-a35c-96e83ca28ee2"
      },
      "execution_count": null,
      "outputs": [
        {
          "output_type": "execute_result",
          "data": {
            "text/plain": [
              "2"
            ]
          },
          "metadata": {},
          "execution_count": 22
        }
      ]
    },
    {
      "cell_type": "code",
      "source": [
        "### Checking dimensions\n",
        "### The dimensions or rank of a vector tells us how many dimensions are there for the vector.\n",
        "\n",
        "D.ndim"
      ],
      "metadata": {
        "colab": {
          "base_uri": "https://localhost:8080/"
        },
        "id": "1gT2YjDikYpM",
        "outputId": "096a305e-2ee8-4932-fbf9-4b49f634a7d9"
      },
      "execution_count": null,
      "outputs": [
        {
          "output_type": "execute_result",
          "data": {
            "text/plain": [
              "1"
            ]
          },
          "metadata": {},
          "execution_count": 23
        }
      ]
    },
    {
      "cell_type": "markdown",
      "source": [
        "Great! Now let's try to explore in performing operations with these vectors."
      ],
      "metadata": {
        "id": "-0qF5dFSkbzx"
      }
    },
    {
      "cell_type": "markdown",
      "source": [
        "#### Addition"
      ],
      "metadata": {
        "id": "FJK_9CvXkcMe"
      }
    },
    {
      "cell_type": "markdown",
      "source": [
        "In Python, we use the NumPy module to perform different operations on arrays. When it comes to vector addition, what it means is that two arrays will be added. The arrays need to be of the same length in all the methods, thus, we can add two vectors only and only if both the vectors are in the same dimensional space; otherwise, a ValueError is raised. There are various ways to be used in addition vectors using Python. First, we can utilize the numpy.add() Function to Perform Vector Addition in NumPy. The add() function from the numpy module can be used to add two arrays. It performs addition over arrays that have the same size with elements at every corresponding position getting summed up. Second, the numpy.ndarray.__add__() function can also be used to perform Vector Addition in NumPy. The numpy.ndarray.__add__() function is used to add some value to every element of the array. We can use it to perform vector addition by passing the second array to this function. Also, the + Operator to execute Vector Addition in NumPy. We can eliminate the use of any function by simply using the arithmetic + operator to calculate the sum of two arrays [8].\n"
      ],
      "metadata": {
        "id": "rHcgZWQbOwr6"
      }
    },
    {
      "cell_type": "markdown",
      "source": [
        "The addition rule is simple, the we just need to add the elements of the matrices according to their index. So in this case if we add vector $A$ and vector $B$ we will have a resulting vector:"
      ],
      "metadata": {
        "id": "Map5yoROkeIl"
      }
    },
    {
      "cell_type": "markdown",
      "source": [
        "$$R = 99\\hat{x}-88\\hat{y} \\\\ \\\\or \\\\ \\\\ R = \\begin{bmatrix} 99 \\\\ -88\\end{bmatrix} $$"
      ],
      "metadata": {
        "id": "ZQ_trbiTkg00"
      }
    },
    {
      "cell_type": "markdown",
      "source": [
        "So let's try to do that in NumPy in several number of ways:"
      ],
      "metadata": {
        "id": "NwWOJ-4Zkil7"
      }
    },
    {
      "cell_type": "code",
      "source": [
        "R = np.add(A, B) ## this is the functional method usisng the numpy library\n",
        "P = np.add(C, D)\n",
        "P"
      ],
      "metadata": {
        "id": "0R4UPQ07kkoC",
        "colab": {
          "base_uri": "https://localhost:8080/"
        },
        "outputId": "ba184061-0be0-4149-f992-9f944f3880fc"
      },
      "execution_count": null,
      "outputs": [
        {
          "output_type": "execute_result",
          "data": {
            "text/plain": [
              "array([[ 11,  -3],\n",
              "       [ 14,   0],\n",
              "       [ -1, -15]])"
            ]
          },
          "metadata": {},
          "execution_count": 25
        }
      ]
    },
    {
      "cell_type": "code",
      "source": [
        "R = A + B   ## this is the explicit method, since Python does a value-reference so it can \n",
        "            ## know that these variables would need to do array operations.\n",
        "R"
      ],
      "metadata": {
        "colab": {
          "base_uri": "https://localhost:8080/"
        },
        "id": "qNeVUkdtkmFr",
        "outputId": "d9f03d34-5e8c-436d-a2d6-da6833c75ea1"
      },
      "execution_count": null,
      "outputs": [
        {
          "output_type": "execute_result",
          "data": {
            "text/plain": [
              "array([[50, 60],\n",
              "       [60, 70],\n",
              "       [10, 20]])"
            ]
          },
          "metadata": {},
          "execution_count": 26
        }
      ]
    },
    {
      "cell_type": "markdown",
      "source": [
        "##Division\n",
        "For the vector division, the function numpy.divide() can be used to perform the division of vectors in Python. numpy.divide(arr1, arr2, out = None, where = True, casting = ‘same_kind’, order = ‘K’, dtype = None), array element from first array is divided by elements from second element (all happens element-wise). Both arr1 and arr2 must have same shape and element in arr2 must not be zero, otherwise, it will raise an error. Unlike ‘floor division’, true division adjusts the output type to present the best answer, regardless of input types.\n"
      ],
      "metadata": {
        "id": "RDTyAGBWO5wF"
      }
    },
    {
      "cell_type": "code",
      "source": [
        "pos1 = np.array([9, 8, 7])\n",
        "pos2 = np.array([6, 5, 4])\n",
        "pos3 = np.array([3, 2, 1])\n",
        "pos4 = np.array([2, 4, 6])\n",
        "#R = pos1 + pos2 + pos3 + pos4\n",
        "#R = np.multiply(pos3, pos4)\n",
        "R = pos3 / pos4\n",
        "R"
      ],
      "metadata": {
        "colab": {
          "base_uri": "https://localhost:8080/"
        },
        "id": "U8J8NykMknfh",
        "outputId": "934af9d7-597d-4a3e-e789-7a5703b42191"
      },
      "execution_count": null,
      "outputs": [
        {
          "output_type": "execute_result",
          "data": {
            "text/plain": [
              "array([1.5       , 0.5       , 0.16666667])"
            ]
          },
          "metadata": {},
          "execution_count": 29
        }
      ]
    },
    {
      "cell_type": "markdown",
      "source": [
        "##### Try for yourself!"
      ],
      "metadata": {
        "id": "4McMIpACkqxW"
      }
    },
    {
      "cell_type": "markdown",
      "source": [
        "Try to implement subtraction, multiplication, and division with vectors $A$ and $B$!"
      ],
      "metadata": {
        "id": "JLGrsZRiksXM"
      }
    },
    {
      "cell_type": "markdown",
      "source": [
        "##Subtraction\n",
        "Similar to the vector addition, the NumPy module also performs the vector subtraction. One way to know the difference between vectors in Python is numpy.subtract() Function. It used when we want to subtract two array. It returns the difference of arr1 and arr2, element-wise [12].\n"
      ],
      "metadata": {
        "id": "iOcByUyOO0WK"
      }
    },
    {
      "cell_type": "code",
      "source": [
        "### Try out you code here! \n",
        "A = np.array([87, 67, 47])\n",
        "B = np.array([96, 76, 36])"
      ],
      "metadata": {
        "id": "nvx8sUp-kwMK"
      },
      "execution_count": null,
      "outputs": []
    },
    {
      "cell_type": "code",
      "source": [
        "X = A - B\n",
        "X"
      ],
      "metadata": {
        "colab": {
          "base_uri": "https://localhost:8080/"
        },
        "id": "HA37Makq4jlN",
        "outputId": "803360a7-e679-4028-b1ee-ce6f8df41cce"
      },
      "execution_count": null,
      "outputs": [
        {
          "output_type": "execute_result",
          "data": {
            "text/plain": [
              "array([-9, -9, 11])"
            ]
          },
          "metadata": {},
          "execution_count": 33
        }
      ]
    },
    {
      "cell_type": "code",
      "source": [
        "Y = A*B\n",
        "Y"
      ],
      "metadata": {
        "colab": {
          "base_uri": "https://localhost:8080/"
        },
        "id": "VJ5_Wsg74kC9",
        "outputId": "1581b0d1-e974-4188-f96d-416c1bc99760"
      },
      "execution_count": null,
      "outputs": [
        {
          "output_type": "execute_result",
          "data": {
            "text/plain": [
              "array([8352, 5092, 1692])"
            ]
          },
          "metadata": {},
          "execution_count": 35
        }
      ]
    },
    {
      "cell_type": "code",
      "source": [
        "Z = B/A\n",
        "Z"
      ],
      "metadata": {
        "colab": {
          "base_uri": "https://localhost:8080/"
        },
        "id": "SV9jGA054kXq",
        "outputId": "1c694252-d958-410c-f787-ab4094026102"
      },
      "execution_count": null,
      "outputs": [
        {
          "output_type": "execute_result",
          "data": {
            "text/plain": [
              "array([1.10344828, 1.13432836, 0.76595745])"
            ]
          },
          "metadata": {},
          "execution_count": 37
        }
      ]
    },
    {
      "cell_type": "markdown",
      "source": [
        "### Scaling"
      ],
      "metadata": {
        "id": "NTwY8zh_kwr_"
      }
    },
    {
      "cell_type": "markdown",
      "source": [
        "Scalar multiplication can be represented by multiplying a scalar quantity by all the elements in the vectormatrix [9]. There are different methods to be used in scalar multiplication in Python, those are the following: In Python, it is very simple to multiply all the elements of a NumPy array with a scalar. The * operator in the NumPy package can be used for this operation. It is important to first initialize a NumPy array using the numpy.array() function and then compute the product of that array with a scalar using the * operator. Also, using numpy.multiply() Function in Python, we can multiply an Array with a Scalar. The numpy.multiply() function gives us the product of two arrays. numpy.multiply() returns an array that is the product of two arrays given in the arguments of the function. First, initialize a NumPy array using numpy.array() function and then compute the product of that array with a scalar using the numpy.multiply() function [10].\n"
      ],
      "metadata": {
        "id": "ZCvm9FYPPBKP"
      }
    },
    {
      "cell_type": "markdown",
      "source": [
        "Scaling or scalar multiplication takes a scalar value and performs multiplication with a vector. Let's take the example below:"
      ],
      "metadata": {
        "id": "jnExAn0_kyVs"
      }
    },
    {
      "cell_type": "markdown",
      "source": [
        "$$S = 9 \\cdot A$$"
      ],
      "metadata": {
        "id": "cJzQjDI_k02I"
      }
    },
    {
      "cell_type": "markdown",
      "source": [
        "We can do this in numpy through:"
      ],
      "metadata": {
        "id": "FfSoXpmMk3FR"
      }
    },
    {
      "cell_type": "code",
      "source": [
        "#S = 9 * A\n",
        "S = np.multiply(9,A)\n",
        "S"
      ],
      "metadata": {
        "colab": {
          "base_uri": "https://localhost:8080/"
        },
        "id": "wZrEcCWWk6xr",
        "outputId": "642fc679-948a-4414-f269-538d04cf77fa"
      },
      "execution_count": null,
      "outputs": [
        {
          "output_type": "execute_result",
          "data": {
            "text/plain": [
              "array([783, 603, 423])"
            ]
          },
          "metadata": {},
          "execution_count": 39
        }
      ]
    },
    {
      "cell_type": "markdown",
      "source": [
        "Try to implement scaling with two vectors."
      ],
      "metadata": {
        "id": "nh0--_AXk40T"
      }
    },
    {
      "cell_type": "markdown",
      "source": [
        "### MatPlotLib"
      ],
      "metadata": {
        "id": "MIwULFYCk9tW"
      }
    },
    {
      "cell_type": "markdown",
      "source": [
        "MATLab Plotting library is Python's take on MATLabs plotting feature. MatPlotLib can be used vastly from graphing values to visualizing several dimensions of data. Also, MatPlotlLib is a cross-platform, data visualization and graphical plotting library for Python and its numerical extension NumPy. As such, it offers a viable open-source alternative to MATLAB [11].\n"
      ],
      "metadata": {
        "id": "VqVM-NgtPEM-"
      }
    },
    {
      "cell_type": "markdown",
      "source": [
        "MatPlotLib or MATLab Plotting library is Python's take on MATLabs plotting feature. MatPlotLib can be used vastly from graping values to visualizing several dimensions of data."
      ],
      "metadata": {
        "id": "zIy4PPL9k_Nh"
      }
    },
    {
      "cell_type": "markdown",
      "source": [
        "#### Visualizing Data"
      ],
      "metadata": {
        "id": "oJ7v8MkjlBBi"
      }
    },
    {
      "cell_type": "markdown",
      "source": [
        "In order to solve for the vector properly, it is important for the students to visualize it. MatPlotLib is a great way to do it.\n"
      ],
      "metadata": {
        "id": "-SoBO-dAPGVQ"
      }
    },
    {
      "cell_type": "code",
      "source": [
        "import matplotlib.pyplot as plt\n",
        "import matplotlib\n",
        "%matplotlib inline"
      ],
      "metadata": {
        "id": "7-lFxdm9lEv5"
      },
      "execution_count": null,
      "outputs": []
    },
    {
      "cell_type": "code",
      "source": [
        "A = [19, -7]\n",
        "B = [-10, 22]\n",
        "plt.scatter(A[0], A[1], label='A', c='orange')\n",
        "plt.scatter(B[0], B[1], label='B', c='cyan')\n",
        "plt.grid()\n",
        "plt.legend()\n",
        "plt.show()"
      ],
      "metadata": {
        "colab": {
          "base_uri": "https://localhost:8080/",
          "height": 265
        },
        "id": "PyVVM8cNlFGx",
        "outputId": "a97151b2-6c62-4d90-f650-a8934689a99f"
      },
      "execution_count": null,
      "outputs": [
        {
          "output_type": "display_data",
          "data": {
            "text/plain": [
              "<Figure size 432x288 with 1 Axes>"
            ],
            "image/png": "[encoded data removed]"
          },
          "metadata": {
            "needs_background": "light"
          }
        }
      ]
    },
    {
      "cell_type": "code",
      "metadata": {
        "colab": {
          "base_uri": "https://localhost:8080/",
          "height": 368
        },
        "id": "KZgiMGCEZpJn",
        "outputId": "eb8f65e5-3a4c-41ce-bc13-d9abec251f5e"
      },
      "source": [
        "A = np.array([17, -14])\n",
        "B = np.array([-12, 13])\n",
        "R = A + B\n",
        "Magnitude = np.sqrt(np.sum(R**2))\n",
        "plt.title(\"Resultant Vector\\nMagnitude:{}\" .format(Magnitude))\n",
        "plt.xlim(-20, 20)\n",
        "plt.ylim(-20, 20)\n",
        "plt.quiver(0, 0, A[0], A[1], angles='xy', scale_units='xy', scale=1, color='pink')\n",
        "plt.quiver(A[0], A[1], B[0], B[1], angles='xy', scale_units='xy', scale=1, color='purple')\n",
        "R = A + B\n",
        "plt.quiver(0, 0, R[0], R[1], angles='xy', scale_units='xy', scale=1, color='green')\n",
        "plt.grid()\n",
        "plt.show()\n",
        "print(R)\n",
        "Magnitude = np.sqrt(np.sum(R**2))\n",
        "print(Magnitude)\n",
        "Slope = R[1]/R[0]\n",
        "print(Slope)\n",
        "Angle = (np.arctan(Slope))*(180/np.pi)\n",
        "print(Angle)"
      ],
      "execution_count": null,
      "outputs": [
        {
          "output_type": "display_data",
          "data": {
            "text/plain": [
              "<Figure size 432x288 with 1 Axes>"
            ],
            "image/png": "[encoded data removed]"
          },
          "metadata": {
            "needs_background": "light"
          }
        },
        {
          "output_type": "stream",
          "name": "stdout",
          "text": [
            "[ 5 -1]\n",
            "5.0990195135927845\n",
            "-0.2\n",
            "-11.309932474020215\n"
          ]
        }
      ]
    },
    {
      "cell_type": "code",
      "metadata": {
        "id": "0NZnAZckHs44",
        "outputId": "cb88969a-a0bd-4f30-e866-744c723b74b2",
        "colab": {
          "base_uri": "https://localhost:8080/",
          "height": 269
        }
      },
      "source": [
        "d = A.shape[0]\n",
        "plt.xlim(-20, 20)\n",
        "plt.ylim(-20, 20)\n",
        "plt.quiver(0,0, A[0], A[1], angles='xy', scale_units='xy',scale=1, color='yellow')\n",
        "plt.quiver(0,0, A[1], A[0], angles='xy', scale_units='xy',scale=1, color='green')\n",
        "plt.quiver(0,0, R[0], R[0], angles='xy', scale_units='xy',scale=1, color='brown')\n",
        "plt.show()"
      ],
      "execution_count": null,
      "outputs": [
        {
          "output_type": "display_data",
          "data": {
            "text/plain": [
              "<Figure size 432x288 with 1 Axes>"
            ],
            "image/png": "[encoded data removed]"
          },
          "metadata": {
            "needs_background": "light"
          }
        }
      ]
    },
    {
      "cell_type": "markdown",
      "source": [
        "#Conclusion\n",
        "The objectives of this laboratory report are successfully met by the students. They were able to familiarize themselves with the libraries in Python such as NumPy and MatPlotLib. They were also able to perform simple vector operations through code. Their output displays the important tasks from importing libraries, declaring vectors, executing different functions and creating vector graphs to describing the outputs. The functions involved in the NumPy library such as simple addition, division, and multiplication of vectors are well understood by the students. In addition, the functions included in the MatPlotLib allows the students to create their own vector graph and grasp the use of this library.  "
      ],
      "metadata": {
        "id": "-vJFeX8SPKFg"
      }
    }
  ]
}