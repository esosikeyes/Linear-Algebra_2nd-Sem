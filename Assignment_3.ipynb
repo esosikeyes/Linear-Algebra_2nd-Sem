{
  "nbformat": 4,
  "nbformat_minor": 0,
  "metadata": {
    "colab": {
      "name": "Activity_3.ipynb",
      "provenance": [],
      "authorship_tag": "ABX9TyNkBjiyobWN/rerg66UnpAf",
      "include_colab_link": true
    },
    "kernelspec": {
      "name": "python3",
      "display_name": "Python 3"
    },
    "language_info": {
      "name": "python"
    }
  },
  "cells": [
    {
      "cell_type": "markdown",
      "metadata": {
        "id": "view-in-github",
        "colab_type": "text"
      },
      "source": [
        "<a href=\"https://colab.research.google.com/github/esosikeyes/Linear-Algebra_2nd-Sem/blob/main/Assignment_3.ipynb\" target=\"_parent\"><img src=\"https://colab.research.google.com/assets/colab-badge.svg\" alt=\"Open In Colab\"/></a>"
      ]
    },
    {
      "cell_type": "markdown",
      "source": [
        "#Linear Algebra for ChE  \n",
        "##Laboratory 2 : Matrices"
      ],
      "metadata": {
        "id": "M5z8C2HGxZ65"
      }
    },
    {
      "cell_type": "markdown",
      "source": [
        "##Objectives\n",
        "\n"
      ],
      "metadata": {
        "id": "nkDCJgKVyD0H"
      }
    },
    {
      "cell_type": "markdown",
      "source": [
        "The objective of this laboratory activity is for the students to be familiar with matrices and their relation to linear equations. In addition, for the students to perform basic matrix operations. Lastly, for the students to program and translate matrix equations and operations using Python.\n"
      ],
      "metadata": {
        "id": "-EHgGSKUefAx"
      }
    },
    {
      "cell_type": "markdown",
      "source": [
        "#Discussion"
      ],
      "metadata": {
        "id": "DHlDJ4ARx80Q"
      }
    },
    {
      "cell_type": "code",
      "source": [
        "import numpy as np\n",
        "import matplotlib.pyplot as plt\n",
        "import scipy.linalg as la\n",
        "%matplotlib inline"
      ],
      "metadata": {
        "id": "yDihVkDkyIFm"
      },
      "execution_count": null,
      "outputs": []
    },
    {
      "cell_type": "markdown",
      "source": [
        "#Matrices"
      ],
      "metadata": {
        "id": "wQR42KRnyyIk"
      }
    },
    {
      "cell_type": "markdown",
      "source": [
        "A matrix is a rectangular-arrays of numbers, symbols, or expressions, arranged in rows and columns. Matrices can be used to compactly write and work with multiple linear equations, that is, a system of linear equations. "
      ],
      "metadata": {
        "id": "rAKctUkdeniM"
      }
    },
    {
      "cell_type": "markdown",
      "source": [
        "Written in the module, matrices are useful representations of complex equations or many interconnected equations, ranging from two-dimensional to hundreds or thousands of them."
      ],
      "metadata": {
        "id": "HNywKmBTerSm"
      }
    },
    {
      "cell_type": "markdown",
      "source": [
        "$$\n",
        "A = \\left\\{\n",
        "    \\begin{array}\\\n",
        "        x + y \\\\ \n",
        "        4x - 10y\n",
        "    \\end{array}\n",
        "\\right. \\\\\n",
        "B = \\left\\{\n",
        "    \\begin{array}\\\n",
        "        x+y+z \\\\ \n",
        "        3x -2y -z \\\\\n",
        "        -x + 4y +2z\n",
        "    \\end{array}\n",
        "\\right. \\\\\n",
        "C = \\left\\{\n",
        "  \\begin{array}\\\n",
        "  w-2x+3y-4z \\\\\n",
        "  3w-x -2y + z \\\\\n",
        "  2w - x + 3y - 2z\n",
        "  \\end{array}\n",
        "\\right. $$\n"
      ],
      "metadata": {
        "id": "zkIIQU5X0N7x"
      }
    },
    {
      "cell_type": "markdown",
      "source": [
        "In the Figure 1, it contains the A and B as the system of equation. Whereas, A is a system of 2 equations with 2 parameters. While B is a system of 3 equations with 2 parameters. It can be represented using Figure 2 as matrices in the following way:"
      ],
      "metadata": {
        "id": "c6GRTun7ewFv"
      }
    },
    {
      "cell_type": "markdown",
      "source": [
        "$$\n",
        "A=\\begin{bmatrix} 1 & 1 \\\\ 4 & {-10}\\end{bmatrix} \\\\\n",
        "B=\\begin{bmatrix} 1 & 1 & 1 \\\\ 3 & -2 & -1 \\\\ -1 & 4 & 2\\end{bmatrix}\\\\\n",
        "C+\\begin{bmatrix} 1 & -2 & 3 & -4 \\\\ 3 & -1 & -2 & 1\\\\ 2 & -1 & 3 & -2\\end{bmatrix}\n",
        "$$\n"
      ],
      "metadata": {
        "id": "IQ8HAEe51fBS"
      }
    },
    {
      "cell_type": "markdown",
      "source": [
        "##Declaring Matrices"
      ],
      "metadata": {
        "id": "Rvc3nlus3rwH"
      }
    },
    {
      "cell_type": "markdown",
      "source": [
        "Box brackets are widely used to write matrices. Rows and columns are the horizontal and vertical lines of entries in a matrix, respectively. A matrix's size is determined by the number of rows and columns it contains. Matrix A, for example, has two rows and three columns as shown in Figure 3. A matrix with m rows and n columns is called an m × n matrix or m-by-n matrix, while m and n are called its Matrix Dimensions [1]."
      ],
      "metadata": {
        "id": "d9fewhISe36y"
      }
    },
    {
      "cell_type": "markdown",
      "source": [
        "$$A=\\begin{bmatrix}\n",
        "a_{(0,0)}&a_{(0,1)}&\\dots&a_{(0,j-1)}\\\\\n",
        "a_{(1,0)}&a_{(1,1)}&\\dots&a_{(1,j-1)}\\\\\n",
        "\\vdots&\\vdots&\\ddots&\\vdots&\\\\\n",
        "a_{(i-1,0)}&a_{(i-1,1)}&\\dots&a_{(i-1,j-1)}\n",
        "\\end{bmatrix}\n",
        "$$\n"
      ],
      "metadata": {
        "id": "QzNUdXUY3uuM"
      }
    },
    {
      "cell_type": "markdown",
      "source": [
        "Each element of a matrix is often denoted by a variable with two subscripts. For instance, a2,1 represents the element at the second row and first column of a matrix A. Thus, this is called Matrix Dimensions. In addition, a matrix's individual components (numbers, symbols, or expressions) are referred to as its elements or entries [2]."
      ],
      "metadata": {
        "id": "RKvpPMwTe83i"
      }
    },
    {
      "cell_type": "markdown",
      "source": [
        "Two matrices can be added or subtracted element by element as long as they are the same size, such as having the same number of rows and columns. The rule for matrix multiplication, on the other hand, is that two matrices can only be multiplied if the first's number of columns equals the second's number of rows. A scalar from the related field can be multiplied element-by-element by any matrix [2]."
      ],
      "metadata": {
        "id": "iyOzbly4e9pM"
      }
    },
    {
      "cell_type": "code",
      "source": [
        "## Since we'll keep on describing matrices. Let's make a function.\n",
        "def describe_mat(matrix):\n",
        "  print(f'Matrix:\\n{matrix}\\n\\nShape:\\t{matrix.shape}\\nRank:\\t{matrix.ndim}\\n')"
      ],
      "metadata": {
        "id": "K7Q7W6NK30Bj"
      },
      "execution_count": null,
      "outputs": []
    },
    {
      "cell_type": "code",
      "source": [
        "##Declaring a 2 x 2 matrix\n",
        "A = np.array([\n",
        "    [1, 2],\n",
        "    [3, 1]\n",
        "])\n",
        "describe_mat(A)"
      ],
      "metadata": {
        "colab": {
          "base_uri": "https://localhost:8080/"
        },
        "id": "wOPbc_ig4Wgq",
        "outputId": "673f66ae-f129-4f82-ce12-46b1e9cab30c"
      },
      "execution_count": null,
      "outputs": [
        {
          "output_type": "stream",
          "name": "stdout",
          "text": [
            "Matrix:\n",
            "[[1 2]\n",
            " [3 1]]\n",
            "\n",
            "Shape:\t(2, 2)\n",
            "Rank:\t2\n",
            "Is Square: True\n",
            "\n"
          ]
        }
      ]
    },
    {
      "cell_type": "code",
      "source": [
        "B = np.array([\n",
        "              [8, 2],\n",
        "              [5, 4],\n",
        "              [1, 1]\n",
        "])\n",
        "describe_mat(B)"
      ],
      "metadata": {
        "colab": {
          "base_uri": "https://localhost:8080/"
        },
        "id": "RuyUaGDr6XOS",
        "outputId": "e10b1c5a-5e5f-4428-965a-70151ec59bb2"
      },
      "execution_count": null,
      "outputs": [
        {
          "output_type": "stream",
          "name": "stdout",
          "text": [
            "Matrix:\n",
            "[[8 2]\n",
            " [5 4]\n",
            " [1 1]]\n",
            "\n",
            "Shape:\t(3, 2)\n",
            "Rank:\t2\n",
            "\n"
          ]
        }
      ]
    },
    {
      "cell_type": "code",
      "source": [
        "H = np.array([11, 22, 33, 44, 55])\n",
        "describe_mat(H)"
      ],
      "metadata": {
        "colab": {
          "base_uri": "https://localhost:8080/"
        },
        "id": "f9MNvXNd6jMn",
        "outputId": "2ef19a28-9734-4945-d7ba-60b10d858f4e"
      },
      "execution_count": null,
      "outputs": [
        {
          "output_type": "stream",
          "name": "stdout",
          "text": [
            "Matrix:\n",
            "[11 22 33 44 55]\n",
            "\n",
            "Shape:\t(5,)\n",
            "Rank:\t1\n",
            "\n"
          ]
        }
      ]
    },
    {
      "cell_type": "markdown",
      "source": [
        "#Categorizing Matrices"
      ],
      "metadata": {
        "id": "GlDjr1457Qx0"
      }
    },
    {
      "cell_type": "markdown",
      "source": [
        "Matrixes can be classified in a variety of ways. One may be based on their shape, while the other could be based on their element values."
      ],
      "metadata": {
        "id": "mU0WbP43fCZU"
      }
    },
    {
      "cell_type": "markdown",
      "source": [
        "##According to Shape"
      ],
      "metadata": {
        "id": "L114UsVw8wbu"
      }
    },
    {
      "cell_type": "markdown",
      "source": [
        "####Row and Columns"
      ],
      "metadata": {
        "id": "rAWlFg7j7ZqE"
      }
    },
    {
      "cell_type": "markdown",
      "source": [
        "A row vector, also called a row matrix is a 1-by-n matrix, while a column vector or known as a column matrix is a n-by-1 matrix. Both kinds of vectors get their names from their resemblance to the rows and columns of a matrix, respectively [3]. Rows and Columns Matrices represent the row and column spaces of a bigger vector space. Row and column matrices are represented by a single column or single row."
      ],
      "metadata": {
        "id": "bTRDG1WAfFeB"
      }
    },
    {
      "cell_type": "code",
      "source": [
        "row_mat_1D = np.array([\n",
        "                       5, 10, 15\n",
        "]) \n",
        "row_mat_2D = np.array([\n",
        "                       [10, 20, 30, -40]\n",
        "])\n",
        "describe_mat(row_mat_1D)\n",
        "describe_mat(row_mat_2D)"
      ],
      "metadata": {
        "colab": {
          "base_uri": "https://localhost:8080/"
        },
        "id": "9S4elR-C7d-z",
        "outputId": "60ceae22-6809-4140-fd30-4d0f07caeb05"
      },
      "execution_count": null,
      "outputs": [
        {
          "output_type": "stream",
          "name": "stdout",
          "text": [
            "Matrix:\n",
            "[ 5 10 15]\n",
            "\n",
            "Shape:\t(3,)\n",
            "Rank:\t1\n",
            "\n",
            "Matrix:\n",
            "[[ 10  20  30 -40]]\n",
            "\n",
            "Shape:\t(1, 4)\n",
            "Rank:\t2\n",
            "\n"
          ]
        }
      ]
    },
    {
      "cell_type": "code",
      "source": [
        "col_mat = np.array([\n",
        "                    [56],\n",
        "                    [73],\n",
        "                    [87]\n",
        "])\n",
        "describe_mat(col_mat)"
      ],
      "metadata": {
        "colab": {
          "base_uri": "https://localhost:8080/"
        },
        "id": "XbJTW5rr9YDr",
        "outputId": "e8ab0f07-2f57-415e-ecfa-bb2b660cbe13"
      },
      "execution_count": null,
      "outputs": [
        {
          "output_type": "stream",
          "name": "stdout",
          "text": [
            "Matrix:\n",
            "[[56]\n",
            " [73]\n",
            " [87]]\n",
            "\n",
            "Shape:\t(3, 1)\n",
            "Rank:\t2\n",
            "\n"
          ]
        }
      ]
    },
    {
      "cell_type": "markdown",
      "source": [
        "####Square Matrices"
      ],
      "metadata": {
        "id": "w81z25-3989z"
      }
    },
    {
      "cell_type": "markdown",
      "source": [
        "A square matrix is an important format of a matrix and it has the perfect square number of elements, thus, the number of rows and columns are equal. Its order is of the form n × n. All matrix operations such as transpose, determinant, adjoint, and inverse, as well as matrices' mathematical operations, apply to a square matrix. In addition, a square matrix can be used to solve quadratic equations in two variables [4]."
      ],
      "metadata": {
        "id": "q0k-YpkxfGdM"
      }
    },
    {
      "cell_type": "code",
      "source": [
        "def describe_mat(matrix):\n",
        "  is_square = True if matrix.shape[0] == matrix.shape[1] else False \n",
        "  print(f'Matrix:\\n{matrix}\\n\\nShape:\\t{matrix.shape}\\nRank:\\t{matrix.ndim}\\nIs Square: {is_square}\\n')"
      ],
      "metadata": {
        "id": "Cz_P92h0-Cwb"
      },
      "execution_count": null,
      "outputs": []
    },
    {
      "cell_type": "code",
      "source": [
        "square_mat = np.array([\n",
        "                       [5, 10, 15],\n",
        "                       [4, 8, 12],\n",
        "                       [3, 6, 9]\n",
        "                       \n",
        "])\n",
        "\n",
        "non_square_mat = np.array([\n",
        "                           [9, 18, 27],\n",
        "                           [8, 16, 24]\n",
        "])\n",
        "describe_mat(square_mat)\n",
        "describe_mat(non_square_mat)"
      ],
      "metadata": {
        "colab": {
          "base_uri": "https://localhost:8080/"
        },
        "id": "vKXhP6AV-ZOy",
        "outputId": "4d2dc88d-c193-4a9a-c223-4f6defa47d1f"
      },
      "execution_count": null,
      "outputs": [
        {
          "output_type": "stream",
          "name": "stdout",
          "text": [
            "Matrix:\n",
            "[[ 5 10 15]\n",
            " [ 4  8 12]\n",
            " [ 3  6  9]]\n",
            "\n",
            "Shape:\t(3, 3)\n",
            "Rank:\t2\n",
            "Is Square: True\n",
            "\n",
            "Matrix:\n",
            "[[ 9 18 27]\n",
            " [ 8 16 24]]\n",
            "\n",
            "Shape:\t(2, 3)\n",
            "Rank:\t2\n",
            "Is Square: False\n",
            "\n"
          ]
        }
      ]
    },
    {
      "cell_type": "markdown",
      "source": [
        "#According to element values"
      ],
      "metadata": {
        "id": "_jjJ1IntBHkx"
      }
    },
    {
      "cell_type": "markdown",
      "source": [
        "####Null Matrix"
      ],
      "metadata": {
        "id": "6Fimp8s4BKEp"
      }
    },
    {
      "cell_type": "markdown",
      "source": [
        "A null matrix is a matrix in which contains no elements. The null matrix is always a subspace of any vector or matrix."
      ],
      "metadata": {
        "id": "-LxU2XGXfJWV"
      }
    },
    {
      "cell_type": "code",
      "source": [
        "def describe_mat(matrix):\n",
        "  if matrix.size > 0:\n",
        "    is_square = True if matrix.shape[0] == matrix.shape[1] else False \n",
        "    print(f'Matrix:\\n{matrix}\\n\\nShape:\\t{matrix.shape}\\nRank:\\t{matrix.ndim}\\nIs Square: {is_square}\\n')\n",
        "  else: \n",
        "    print('Matrix is Null')"
      ],
      "metadata": {
        "id": "KmMJWzPLBLac"
      },
      "execution_count": null,
      "outputs": []
    },
    {
      "cell_type": "code",
      "source": [
        "null_mat = np.array([])\n",
        "describe_mat(null_mat)"
      ],
      "metadata": {
        "colab": {
          "base_uri": "https://localhost:8080/"
        },
        "id": "xH--dPlmBrQ0",
        "outputId": "2fa265dd-4772-4412-9a27-c8648366d151"
      },
      "execution_count": null,
      "outputs": [
        {
          "output_type": "stream",
          "name": "stdout",
          "text": [
            "Matrix is Null\n"
          ]
        }
      ]
    },
    {
      "cell_type": "markdown",
      "source": [
        "####Zero Matrix"
      ],
      "metadata": {
        "id": "ANwM_07NBy4Z"
      }
    },
    {
      "cell_type": "markdown",
      "source": [
        "A zero matrix is a matrix made up entirely of zero elements. It is the additive identity for matrix addition [5]. The zero matrix works in the same way that the number zero does with real numbers."
      ],
      "metadata": {
        "id": "AEZZmzeUfLN3"
      }
    },
    {
      "cell_type": "code",
      "source": [
        "zero_mat_row = np.zeros((1,2))\n",
        "zero_mat_sqr = np.zeros((2,2))\n",
        "zero_mat_rct = np.zeros((3,2))\n",
        "\n",
        "print(f'Zero Row Matrix: \\n{zero_mat_row}')\n",
        "print(f'Zero Square Matrix: \\n{zero_mat_sqr}')\n",
        "print(f'Zero Rectangular Matrix: \\n{zero_mat_rct}')"
      ],
      "metadata": {
        "colab": {
          "base_uri": "https://localhost:8080/"
        },
        "id": "DaeKDRytB0Tw",
        "outputId": "c0f99399-e662-49ba-fd79-45f4450904fb"
      },
      "execution_count": null,
      "outputs": [
        {
          "output_type": "stream",
          "name": "stdout",
          "text": [
            "Zero Row Matrix: \n",
            "[[0. 0.]]\n",
            "Zero Square Matrix: \n",
            "[[0. 0.]\n",
            " [0. 0.]]\n",
            "Zero Rectangular Matrix: \n",
            "[[0. 0.]\n",
            " [0. 0.]\n",
            " [0. 0.]]\n"
          ]
        }
      ]
    },
    {
      "cell_type": "markdown",
      "source": [
        "####Ones Matrix"
      ],
      "metadata": {
        "id": "FgFY5bY_C4YH"
      }
    },
    {
      "cell_type": "markdown",
      "source": [
        "A ones matrix or matrix of ones is a matrix where every element is equal to one, and it can be any rectangular matrix, similar to the zero matrices."
      ],
      "metadata": {
        "id": "ZVOOVyHDfNMi"
      }
    },
    {
      "cell_type": "code",
      "source": [
        "ones_mat_row = np.ones((1,2))\n",
        "ones_mat_sqr = np.ones((2,2))\n",
        "ones_mat_rct = np.ones((3,2))\n",
        "\n",
        "print(f'Ones Row Matrix: \\n{ones_mat_row}')\n",
        "print(f'Ones Square Matrix: \\n{ones_mat_sqr}')\n",
        "print(f'Ones Rectangular Matrix: \\n{ones_mat_rct}')"
      ],
      "metadata": {
        "colab": {
          "base_uri": "https://localhost:8080/"
        },
        "id": "faZ3VaybC6bS",
        "outputId": "704c9108-a284-4357-dbf5-1e3d72348643"
      },
      "execution_count": null,
      "outputs": [
        {
          "output_type": "stream",
          "name": "stdout",
          "text": [
            "Ones Row Matrix: \n",
            "[[1. 1.]]\n",
            "Ones Square Matrix: \n",
            "[[1. 1.]\n",
            " [1. 1.]]\n",
            "Ones Rectangular Matrix: \n",
            "[[1. 1.]\n",
            " [1. 1.]\n",
            " [1. 1.]]\n"
          ]
        }
      ]
    },
    {
      "cell_type": "markdown",
      "source": [
        "####Diagonal Matrix"
      ],
      "metadata": {
        "id": "4tuJKrGKEoBt"
      }
    },
    {
      "cell_type": "markdown",
      "source": [
        "A diagonal matrix is a square matrix in which every element except the principal diagonal elements is zero [6]. Elements of the main diagonal can either be zero or nonzero."
      ],
      "metadata": {
        "id": "KQtJPwzFfToK"
      }
    },
    {
      "cell_type": "code",
      "source": [
        "np.array([\n",
        "          [2, 0, 0],\n",
        "          [3, 6, 9],\n",
        "          [5, 6, 9]\n",
        "])"
      ],
      "metadata": {
        "colab": {
          "base_uri": "https://localhost:8080/"
        },
        "id": "IbolX8Q-EnRf",
        "outputId": "1972801e-9e68-49df-a053-a4d4e9c99b9e"
      },
      "execution_count": null,
      "outputs": [
        {
          "output_type": "execute_result",
          "data": {
            "text/plain": [
              "array([[2, 0, 0],\n",
              "       [3, 6, 9],\n",
              "       [5, 6, 9]])"
            ]
          },
          "metadata": {},
          "execution_count": 64
        }
      ]
    },
    {
      "cell_type": "code",
      "source": [
        "d = np.diag([9, 8, 7, 6])\n",
        "d"
      ],
      "metadata": {
        "colab": {
          "base_uri": "https://localhost:8080/"
        },
        "id": "vaRG00uyE1pl",
        "outputId": "73dfb2d2-01ad-4be5-8345-6d8cee715e94"
      },
      "execution_count": null,
      "outputs": [
        {
          "output_type": "execute_result",
          "data": {
            "text/plain": [
              "array([[9, 0, 0, 0],\n",
              "       [0, 8, 0, 0],\n",
              "       [0, 0, 7, 0],\n",
              "       [0, 0, 0, 6]])"
            ]
          },
          "metadata": {},
          "execution_count": 66
        }
      ]
    },
    {
      "cell_type": "code",
      "source": [
        "d = np.diag([9, 8, 7, 6])\n",
        "d.shape[0] == d.shape[1]"
      ],
      "metadata": {
        "colab": {
          "base_uri": "https://localhost:8080/"
        },
        "id": "w6EP36UgFBCj",
        "outputId": "c1774178-1e5f-4301-f86b-c9f8d2360f4c"
      },
      "execution_count": null,
      "outputs": [
        {
          "output_type": "execute_result",
          "data": {
            "text/plain": [
              "True"
            ]
          },
          "metadata": {},
          "execution_count": 68
        }
      ]
    },
    {
      "cell_type": "markdown",
      "source": [
        "####Identity Matrix"
      ],
      "metadata": {
        "id": "OfaueNcWFM2d"
      }
    },
    {
      "cell_type": "markdown",
      "source": [
        "An identity matrix is a square matrix of any order that has one value on its principal diagonal elements and zero values on the remainder of the matrix components [7]. The identity matrix plays a similar role in operations with matrices as the number 1 plays in operations with real numbers."
      ],
      "metadata": {
        "id": "4AbwFdWCfXTL"
      }
    },
    {
      "cell_type": "code",
      "source": [
        "np.eye(3)"
      ],
      "metadata": {
        "colab": {
          "base_uri": "https://localhost:8080/"
        },
        "id": "4-TEryPsFONR",
        "outputId": "4bf16a31-3f10-44f6-8d63-c98430879fb5"
      },
      "execution_count": null,
      "outputs": [
        {
          "output_type": "execute_result",
          "data": {
            "text/plain": [
              "array([[1., 0., 0.],\n",
              "       [0., 1., 0.],\n",
              "       [0., 0., 1.]])"
            ]
          },
          "metadata": {},
          "execution_count": 69
        }
      ]
    },
    {
      "cell_type": "code",
      "source": [
        "np.identity(7)"
      ],
      "metadata": {
        "colab": {
          "base_uri": "https://localhost:8080/"
        },
        "id": "ld17juweF6tY",
        "outputId": "55363609-0972-4b97-92df-a7dc84a61a70"
      },
      "execution_count": null,
      "outputs": [
        {
          "output_type": "execute_result",
          "data": {
            "text/plain": [
              "array([[1., 0., 0., 0., 0., 0., 0.],\n",
              "       [0., 1., 0., 0., 0., 0., 0.],\n",
              "       [0., 0., 1., 0., 0., 0., 0.],\n",
              "       [0., 0., 0., 1., 0., 0., 0.],\n",
              "       [0., 0., 0., 0., 1., 0., 0.],\n",
              "       [0., 0., 0., 0., 0., 1., 0.],\n",
              "       [0., 0., 0., 0., 0., 0., 1.]])"
            ]
          },
          "metadata": {},
          "execution_count": 70
        }
      ]
    },
    {
      "cell_type": "markdown",
      "source": [
        "####Upper Triangular Matrix"
      ],
      "metadata": {
        "id": "z8qaw_63F_2Y"
      }
    },
    {
      "cell_type": "markdown",
      "source": [
        "An upper triangular matrix has all the elements below the main diagonal as zero [8]."
      ],
      "metadata": {
        "id": "HymXQVOLfZmz"
      }
    },
    {
      "cell_type": "code",
      "source": [
        "np.array([\n",
        "          [3, 5, 6, 6],\n",
        "          [0, 2, 8, 5],\n",
        "          [0, 0, 4, 7],\n",
        "          [0, 0, 0, 9]\n",
        "])"
      ],
      "metadata": {
        "colab": {
          "base_uri": "https://localhost:8080/"
        },
        "id": "eDJJdecTGCk7",
        "outputId": "ce4fa5c8-2d4a-4d2f-edd1-d3cbe2d73b14"
      },
      "execution_count": null,
      "outputs": [
        {
          "output_type": "execute_result",
          "data": {
            "text/plain": [
              "array([[3, 5, 6, 6],\n",
              "       [0, 2, 8, 5],\n",
              "       [0, 0, 4, 7],\n",
              "       [0, 0, 0, 9]])"
            ]
          },
          "metadata": {},
          "execution_count": 77
        }
      ]
    },
    {
      "cell_type": "markdown",
      "source": [
        "####Lower Triangular Matrix"
      ],
      "metadata": {
        "id": "i_sGIvvZGygv"
      }
    },
    {
      "cell_type": "markdown",
      "source": [
        "A lower triangular matrix is the matrix that has elements above the main diagonal as zero [8]."
      ],
      "metadata": {
        "id": "MI3cfKlJfbkI"
      }
    },
    {
      "cell_type": "code",
      "source": [
        "np.array([\n",
        "          [5, 0, 0],\n",
        "          [2, 3, 0],\n",
        "          [4, 7, 9]\n",
        "])"
      ],
      "metadata": {
        "colab": {
          "base_uri": "https://localhost:8080/"
        },
        "id": "jWlpxL7-G1_W",
        "outputId": "ea44b477-e97b-405d-e783-ff74d9862ab0"
      },
      "execution_count": null,
      "outputs": [
        {
          "output_type": "execute_result",
          "data": {
            "text/plain": [
              "array([[5, 0, 0],\n",
              "       [2, 3, 0],\n",
              "       [4, 7, 9]])"
            ]
          },
          "metadata": {},
          "execution_count": 76
        }
      ]
    },
    {
      "cell_type": "markdown",
      "source": [
        "#Practice"
      ],
      "metadata": {
        "id": "nH5N3cNOf-TX"
      }
    },
    {
      "cell_type": "markdown",
      "source": [
        "1. Given the linear combination below, try to create a corresponding matrix representing it."
      ],
      "metadata": {
        "id": "Uh4zBGHsgAZI"
      }
    },
    {
      "cell_type": "markdown",
      "source": [
        ":$$\\theta = 5x + 3y - z$$"
      ],
      "metadata": {
        "id": "QxgKDg9CgH1l"
      }
    },
    {
      "cell_type": "markdown",
      "source": [
        "$$\n",
        "\\theta=\\begin{bmatrix} 1 & 3 & {-1}\\end{bmatrix}\n",
        "$$\n"
      ],
      "metadata": {
        "id": "rfVPj3q3jj8x"
      }
    },
    {
      "cell_type": "markdown",
      "source": [
        "2. Given the system of linear combinations below, try to encode it as a matrix. Also describe the matrix."
      ],
      "metadata": {
        "id": "TOSPdEw7gOuy"
      }
    },
    {
      "cell_type": "markdown",
      "source": [
        "$$\n",
        "A = \\left\\{\\begin{array}\n",
        "5x_1 + 2x_2 +x_3\\\\\n",
        "4x_2 - x_3\\\\\n",
        "10x_3\n",
        "\\end{array}\\right.\n",
        "$$"
      ],
      "metadata": {
        "id": "VcHHtiZvgSkL"
      }
    },
    {
      "cell_type": "markdown",
      "source": [
        "$$\n",
        "A=\\begin{bmatrix} 1 & 2 & 1\\\\ 0 & 4 & {-1}\\\\ 0 & 0 & 10\\end{bmatrix}\n",
        "$$"
      ],
      "metadata": {
        "id": "DOvMwixhkf-h"
      }
    },
    {
      "cell_type": "markdown",
      "source": [
        "The matrix above is an upper triangular matrix where the entries above the main diagonal are entries with non zero number while the entries below the main diagonal line are all zeroes (0)."
      ],
      "metadata": {
        "id": "eIZJY5YPk61a"
      }
    },
    {
      "cell_type": "markdown",
      "source": [
        "3. Given the matrix below, express it as a linear combination in a markdown and a LaTeX markdown"
      ],
      "metadata": {
        "id": "5IKxPKLpgVgK"
      }
    },
    {
      "cell_type": "code",
      "source": [
        "G = np.array([\n",
        "    [1,7,8],\n",
        "    [2,2,2],\n",
        "    [4,6,7]\n",
        "])\n",
        "G"
      ],
      "metadata": {
        "id": "pSKy-W9mpCpE",
        "outputId": "17337394-2be1-4fda-cb0f-c53b835742c2",
        "colab": {
          "base_uri": "https://localhost:8080/"
        }
      },
      "execution_count": null,
      "outputs": [
        {
          "output_type": "execute_result",
          "data": {
            "text/plain": [
              "array([[1, 7, 8],\n",
              "       [2, 2, 2],\n",
              "       [4, 6, 7]])"
            ]
          },
          "metadata": {},
          "execution_count": 4
        }
      ]
    },
    {
      "cell_type": "markdown",
      "source": [
        "$$\n",
        "G = \\left\\{\\begin{array}\n",
        "1x_1 + 7x_2 +8x_3\\\\\n",
        "2x_1 + 2x_2 + 2x_3\\\\\n",
        "4x_1 + 6x_2 + 7x_3\n",
        "\\end{array}\\right.\n",
        "$$"
      ],
      "metadata": {
        "id": "xIL6z3txnwla"
      }
    },
    {
      "cell_type": "markdown",
      "source": [
        "$$\n",
        "G=\\begin{bmatrix} 1 & 7 & 8\\\\ 2 & 2 & 2\\\\ 4 & 6 & 7\\end{bmatrix}\n",
        "$$"
      ],
      "metadata": {
        "id": "Zrnc8btAn2hp"
      }
    },
    {
      "cell_type": "markdown",
      "source": [
        "4. Given the matrix below, display the output as a LaTeX markdown also express it as a system of linear combinations."
      ],
      "metadata": {
        "id": "gG42EcVEghBG"
      }
    },
    {
      "cell_type": "code",
      "source": [
        "H = np.tril(G)\n",
        "H"
      ],
      "metadata": {
        "id": "LHFR4dSRgmau",
        "outputId": "228a927e-a774-40b1-9e5f-5c37bb9378ef",
        "colab": {
          "base_uri": "https://localhost:8080/"
        }
      },
      "execution_count": null,
      "outputs": [
        {
          "output_type": "execute_result",
          "data": {
            "text/plain": [
              "array([[1, 0, 0],\n",
              "       [2, 2, 0],\n",
              "       [4, 6, 7]])"
            ]
          },
          "metadata": {},
          "execution_count": 5
        }
      ]
    },
    {
      "cell_type": "markdown",
      "source": [
        "$$\n",
        "H = \\left\\{\\begin{array}\n",
        "1x_1\\\\\n",
        "2x_1 + 2x_2 \\\\\n",
        "4x_1 + 6x_2 + 7x_3\n",
        "\\end{array}\\right.\n",
        "$$"
      ],
      "metadata": {
        "id": "rPr7xIW4pW4D"
      }
    },
    {
      "cell_type": "markdown",
      "source": [
        "$$\n",
        "H=\\begin{bmatrix} 1 & 0 & 0\\\\ 2 & 2 & 0\\\\ 4 & 6 & 7\\end{bmatrix}\n",
        "$$"
      ],
      "metadata": {
        "id": "dBxCPvxMpkfB"
      }
    },
    {
      "cell_type": "markdown",
      "source": [
        "##Matrix Algebra"
      ],
      "metadata": {
        "id": "p7H0VZU-JMPu"
      }
    },
    {
      "cell_type": "markdown",
      "source": [
        "###Addition"
      ],
      "metadata": {
        "id": "FyNQq70kJmAF"
      }
    },
    {
      "cell_type": "code",
      "source": [
        "A = np.array([\n",
        "              [3, 4],\n",
        "              [4, 8],\n",
        "              [9, 2]\n",
        "])\n",
        "B = np.array([\n",
        "              [7, 9],\n",
        "              [4, 6],\n",
        "              [3, 5]\n",
        "])\n",
        "A+B"
      ],
      "metadata": {
        "colab": {
          "base_uri": "https://localhost:8080/"
        },
        "id": "a2E_dtxHJOnB",
        "outputId": "01f824dc-2e0b-47cf-cb1c-c1babde0a8f4"
      },
      "execution_count": null,
      "outputs": [
        {
          "output_type": "execute_result",
          "data": {
            "text/plain": [
              "array([[10, 13],\n",
              "       [ 8, 14],\n",
              "       [12,  7]])"
            ]
          },
          "metadata": {},
          "execution_count": 82
        }
      ]
    },
    {
      "cell_type": "code",
      "source": [
        "2+A ##Broadcasting"
      ],
      "metadata": {
        "colab": {
          "base_uri": "https://localhost:8080/"
        },
        "id": "ZP63MitBJsDH",
        "outputId": "d22920a2-089a-4a08-e162-e1755beaceb3"
      },
      "execution_count": null,
      "outputs": [
        {
          "output_type": "execute_result",
          "data": {
            "text/plain": [
              "array([[ 5,  6],\n",
              "       [ 6, 10],\n",
              "       [11,  4]])"
            ]
          },
          "metadata": {},
          "execution_count": 83
        }
      ]
    },
    {
      "cell_type": "markdown",
      "source": [
        "###Subtraction"
      ],
      "metadata": {
        "id": "CF-AoLwNJw1a"
      }
    },
    {
      "cell_type": "code",
      "source": [
        "A = np.array([\n",
        "              [3, 4],\n",
        "              [4, 8],\n",
        "              [9, 2]\n",
        "])\n",
        "B = np.array([\n",
        "              [7, 9],\n",
        "              [4, 6],\n",
        "              [3, 5]\n",
        "])\n",
        "A-B"
      ],
      "metadata": {
        "colab": {
          "base_uri": "https://localhost:8080/"
        },
        "id": "h6YRsN5kJy6f",
        "outputId": "1548e357-99c7-41ef-cff3-4e66ff42902f"
      },
      "execution_count": null,
      "outputs": [
        {
          "output_type": "execute_result",
          "data": {
            "text/plain": [
              "array([[-4, -5],\n",
              "       [ 0,  2],\n",
              "       [ 6, -3]])"
            ]
          },
          "metadata": {},
          "execution_count": 84
        }
      ]
    },
    {
      "cell_type": "code",
      "source": [
        "2-A ##Broadcasting"
      ],
      "metadata": {
        "colab": {
          "base_uri": "https://localhost:8080/"
        },
        "id": "3JvwFRkmJ8f8",
        "outputId": "a3e818d7-a986-4e0b-84d6-ff8a1cc7787c"
      },
      "execution_count": null,
      "outputs": [
        {
          "output_type": "execute_result",
          "data": {
            "text/plain": [
              "array([[-1, -2],\n",
              "       [-2, -6],\n",
              "       [-7,  0]])"
            ]
          },
          "metadata": {},
          "execution_count": 85
        }
      ]
    },
    {
      "cell_type": "markdown",
      "source": [
        "###Element-wise Multiplication"
      ],
      "metadata": {
        "id": "nNhMx5znKGBW"
      }
    },
    {
      "cell_type": "code",
      "source": [
        "A*B\n",
        "np.multiply(A, B)"
      ],
      "metadata": {
        "colab": {
          "base_uri": "https://localhost:8080/"
        },
        "id": "tBaQmp5OKIvE",
        "outputId": "c844755b-d4f5-4f67-f781-afb9bc423e18"
      },
      "execution_count": null,
      "outputs": [
        {
          "output_type": "execute_result",
          "data": {
            "text/plain": [
              "array([[21, 36],\n",
              "       [16, 48],\n",
              "       [27, 10]])"
            ]
          },
          "metadata": {},
          "execution_count": 86
        }
      ]
    },
    {
      "cell_type": "code",
      "source": [
        "2*A"
      ],
      "metadata": {
        "colab": {
          "base_uri": "https://localhost:8080/"
        },
        "id": "3HjNpS0wKRaQ",
        "outputId": "383ad462-6962-4609-aaaf-f29b3b56a69f"
      },
      "execution_count": null,
      "outputs": [
        {
          "output_type": "execute_result",
          "data": {
            "text/plain": [
              "array([[ 6,  8],\n",
              "       [ 8, 16],\n",
              "       [18,  4]])"
            ]
          },
          "metadata": {},
          "execution_count": 87
        }
      ]
    },
    {
      "cell_type": "code",
      "source": [
        "A@B"
      ],
      "metadata": {
        "colab": {
          "base_uri": "https://localhost:8080/",
          "height": 170
        },
        "id": "aiiOnafTKcB1",
        "outputId": "4912db9b-fcba-4f8b-a5c0-8c89348ad268"
      },
      "execution_count": null,
      "outputs": [
        {
          "output_type": "error",
          "ename": "ValueError",
          "evalue": "ignored",
          "traceback": [
            "\u001b[0;31m---------------------------------------------------------------------------\u001b[0m",
            "\u001b[0;31mValueError\u001b[0m                                Traceback (most recent call last)",
            "\u001b[0;32m<ipython-input-88-5016aafd2858>\u001b[0m in \u001b[0;36m<module>\u001b[0;34m()\u001b[0m\n\u001b[0;32m----> 1\u001b[0;31m \u001b[0mA\u001b[0m\u001b[0;34m@\u001b[0m\u001b[0mB\u001b[0m\u001b[0;34m\u001b[0m\u001b[0;34m\u001b[0m\u001b[0m\n\u001b[0m",
            "\u001b[0;31mValueError\u001b[0m: matmul: Input operand 1 has a mismatch in its core dimension 0, with gufunc signature (n?,k),(k,m?)->(n?,m?) (size 3 is different from 2)"
          ]
        }
      ]
    },
    {
      "cell_type": "markdown",
      "source": [
        "#Activity"
      ],
      "metadata": {
        "id": "Vv01fu_nKXrK"
      }
    },
    {
      "cell_type": "markdown",
      "source": [
        "###Task 1"
      ],
      "metadata": {
        "id": "NMpyIqxffzab"
      }
    },
    {
      "cell_type": "markdown",
      "source": [
        "Create a function named mat_desc() that thoroughly describes a matrix, it should:"
      ],
      "metadata": {
        "id": "pxBxRyZtq7GN"
      }
    },
    {
      "cell_type": "markdown",
      "source": [
        "1. Displays the shape, size, and rank of the matrix.\n",
        "2. Displays whether the matrix is square or non-square.\n",
        "3. Displays whetehr the matrix is an empty matrix.\n",
        "4. Displays if the matrix is an identity, ones, or zeros matrix."
      ],
      "metadata": {
        "id": "kmo0WCVRrFXa"
      }
    },
    {
      "cell_type": "markdown",
      "source": [
        "Use 3 sample matrices in which their shapes are not lower than (3,3). In your methodology, create a flowchart discuss, the functions and methods you have done. Present your results section showing the description of each matrx you have declared. "
      ],
      "metadata": {
        "id": "vG-9vic0sBye"
      }
    },
    {
      "cell_type": "markdown",
      "source": [
        "###Task 2"
      ],
      "metadata": {
        "id": "W8M5MB5qhZTd"
      }
    },
    {
      "cell_type": "markdown",
      "source": [
        "Create a function named mat_operations() that takes in two matrices an input parameters it should:"
      ],
      "metadata": {
        "id": "J8Q_0L16sjPg"
      }
    },
    {
      "cell_type": "markdown",
      "source": [
        "1. Determines if the matrices are viable for operation and returns your own error message if they are not viable.\n",
        "2. Returns the sum of the matrices.\n",
        "3. Returns the difference of the matrices.\n",
        "4. Returns the element-wise multiplication of the matrices.\n",
        "5. Returns the element-wise division of the matrices.\n"
      ],
      "metadata": {
        "id": "yitSDDrusrI6"
      }
    },
    {
      "cell_type": "markdown",
      "source": [
        "Use 3 sample matrices in which their shapes are not lower than (3, 3), in your methodology, create a flowchart discuss the functions and methods you have done. Present your results in the results section showing the description of each matrix you have declared."
      ],
      "metadata": {
        "id": "6qsuQt60Tg0z"
      }
    },
    {
      "cell_type": "markdown",
      "source": [
        "#Conclusion"
      ],
      "metadata": {
        "id": "QWPJnj80hUsr"
      }
    }
  ]
}