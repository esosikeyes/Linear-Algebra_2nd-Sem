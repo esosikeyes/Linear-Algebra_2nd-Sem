{
  "nbformat": 4,
  "nbformat_minor": 0,
  "metadata": {
    "colab": {
      "name": "Assignment 4.ipynb",
      "provenance": [],
      "authorship_tag": "ABX9TyPArRqdVsFAT1xPeJdq3WUQ",
      "include_colab_link": true
    },
    "kernelspec": {
      "name": "python3",
      "display_name": "Python 3"
    },
    "language_info": {
      "name": "python"
    }
  },
  "cells": [
    {
      "cell_type": "markdown",
      "metadata": {
        "id": "view-in-github",
        "colab_type": "text"
      },
      "source": [
        "<a href=\"https://colab.research.google.com/github/esosikeyes/Linear-Algebra_2nd-Sem/blob/main/Assignment_4.ipynb\" target=\"_parent\"><img src=\"https://colab.research.google.com/assets/colab-badge.svg\" alt=\"Open In Colab\"/></a>"
      ]
    },
    {
      "cell_type": "markdown",
      "source": [
        "#Linear Algebra for ChE"
      ],
      "metadata": {
        "id": "LshxBK0v8V1L"
      }
    },
    {
      "cell_type": "markdown",
      "source": [
        "#Discussion"
      ],
      "metadata": {
        "id": "cmHoVAgy8qsR"
      }
    },
    {
      "cell_type": "code",
      "source": [
        "import numpy as np\n",
        "import matplotlib.pyplot as plt\n",
        "%matplotlib inline"
      ],
      "metadata": {
        "id": "J5sWEXJD8s8L"
      },
      "execution_count": 1,
      "outputs": []
    },
    {
      "cell_type": "markdown",
      "source": [
        "#Transposition"
      ],
      "metadata": {
        "id": "1NAhcyIF8xs7"
      }
    },
    {
      "cell_type": "markdown",
      "source": [
        "$$\n",
        "A=\\begin{bmatrix} 1 & 2 & 5 \\\\ 5 & {-1} & 0 \\\\ 0 & {-3} & 3 \\end{bmatrix}\n",
        "$$\n"
      ],
      "metadata": {
        "id": "ktCgoYOr9iCl"
      }
    },
    {
      "cell_type": "markdown",
      "source": [
        "$$\n",
        "A^T=\\begin{bmatrix} 1 & 2 & 5 \\\\ 5 & {-1} & 0 \\\\ 0 & {-3} & 3 \\end{bmatrix}\n",
        "$$"
      ],
      "metadata": {
        "id": "wME0XOng_K7y"
      }
    },
    {
      "cell_type": "code",
      "source": [
        "A = np.array([\n",
        "              [53, 22, 34],\n",
        "              [77, 83 ,96],\n",
        "              [20, 32, 44]\n",
        "\n",
        "])\n",
        "A"
      ],
      "metadata": {
        "colab": {
          "base_uri": "https://localhost:8080/"
        },
        "id": "NNXM8m2N9rys",
        "outputId": "f5b0d6fd-7b3d-47b2-cae4-1d01ce137164"
      },
      "execution_count": 6,
      "outputs": [
        {
          "output_type": "execute_result",
          "data": {
            "text/plain": [
              "array([[53, 22, 34],\n",
              "       [77, 83, 96],\n",
              "       [20, 32, 44]])"
            ]
          },
          "metadata": {},
          "execution_count": 6
        }
      ]
    },
    {
      "cell_type": "code",
      "source": [
        "AT1 = np.transpose(A)\n",
        "AT1"
      ],
      "metadata": {
        "colab": {
          "base_uri": "https://localhost:8080/"
        },
        "id": "1tox9dVV97Ot",
        "outputId": "0bdce8e3-e3f8-4372-876c-8ff1970be494"
      },
      "execution_count": 7,
      "outputs": [
        {
          "output_type": "execute_result",
          "data": {
            "text/plain": [
              "array([[53, 77, 20],\n",
              "       [22, 83, 32],\n",
              "       [34, 96, 44]])"
            ]
          },
          "metadata": {},
          "execution_count": 7
        }
      ]
    },
    {
      "cell_type": "code",
      "source": [
        "AT2 = A.T\n",
        "AT2"
      ],
      "metadata": {
        "colab": {
          "base_uri": "https://localhost:8080/"
        },
        "id": "j9L0GVqu-y4X",
        "outputId": "f75df3e2-8d0a-4fcb-eaaf-a18963c55d7b"
      },
      "execution_count": 9,
      "outputs": [
        {
          "output_type": "execute_result",
          "data": {
            "text/plain": [
              "array([[53, 77, 20],\n",
              "       [22, 83, 32],\n",
              "       [34, 96, 44]])"
            ]
          },
          "metadata": {},
          "execution_count": 9
        }
      ]
    },
    {
      "cell_type": "code",
      "source": [
        "np.array_equiv(AT1, AT2)"
      ],
      "metadata": {
        "colab": {
          "base_uri": "https://localhost:8080/"
        },
        "id": "TC6pNcla-8dI",
        "outputId": "2ff32eb1-434c-4471-e87b-7fa5aaf5a109"
      },
      "execution_count": 10,
      "outputs": [
        {
          "output_type": "execute_result",
          "data": {
            "text/plain": [
              "True"
            ]
          },
          "metadata": {},
          "execution_count": 10
        }
      ]
    },
    {
      "cell_type": "code",
      "source": [
        "B = np.array([\n",
        "              [11, 22, 33, 44, 1],\n",
        "              [55, 66, 77, 88, 2],\n",
        "              [99, 100, 110, 120, 3]\n",
        "])\n",
        "B.shape"
      ],
      "metadata": {
        "colab": {
          "base_uri": "https://localhost:8080/"
        },
        "id": "QR1n3a7R_Za2",
        "outputId": "471a8f26-d11a-4130-f73d-1cd12df8232e"
      },
      "execution_count": 15,
      "outputs": [
        {
          "output_type": "execute_result",
          "data": {
            "text/plain": [
              "(3, 5)"
            ]
          },
          "metadata": {},
          "execution_count": 15
        }
      ]
    },
    {
      "cell_type": "code",
      "source": [
        "np.transpose(B).shape"
      ],
      "metadata": {
        "colab": {
          "base_uri": "https://localhost:8080/"
        },
        "id": "q_EmsKTu_nIT",
        "outputId": "13c477f5-e35b-45c6-da93-ec54c9c5f47c"
      },
      "execution_count": 16,
      "outputs": [
        {
          "output_type": "execute_result",
          "data": {
            "text/plain": [
              "(5, 3)"
            ]
          },
          "metadata": {},
          "execution_count": 16
        }
      ]
    },
    {
      "cell_type": "code",
      "source": [
        "B.T.shape"
      ],
      "metadata": {
        "colab": {
          "base_uri": "https://localhost:8080/"
        },
        "id": "4STuolmC_0ck",
        "outputId": "194bf7f9-9c73-42a2-8575-966b49a83003"
      },
      "execution_count": 17,
      "outputs": [
        {
          "output_type": "execute_result",
          "data": {
            "text/plain": [
              "(5, 3)"
            ]
          },
          "metadata": {},
          "execution_count": 17
        }
      ]
    },
    {
      "cell_type": "markdown",
      "source": [
        "#Dot Product / Inner Product"
      ],
      "metadata": {
        "id": "UbC4x0SxAW7H"
      }
    },
    {
      "cell_type": "code",
      "source": [
        "X = np.array([\n",
        "              [3, 6],\n",
        "              [9, 12]      \n",
        "])\n",
        "\n",
        "Y = np.array([\n",
        "              [3, 6, 1, 3, 5],\n",
        "              [9, 12, 7, 9, 11]      \n",
        "])"
      ],
      "metadata": {
        "id": "Z9FR4_eGArsd"
      },
      "execution_count": 19,
      "outputs": []
    },
    {
      "cell_type": "code",
      "source": [
        "np.array_equiv(X, Y)"
      ],
      "metadata": {
        "colab": {
          "base_uri": "https://localhost:8080/"
        },
        "id": "JGVSOuHUBSCL",
        "outputId": "d437f7d7-da69-4163-9af9-9c2fbb2c5554"
      },
      "execution_count": 21,
      "outputs": [
        {
          "output_type": "execute_result",
          "data": {
            "text/plain": [
              "False"
            ]
          },
          "metadata": {},
          "execution_count": 21
        }
      ]
    },
    {
      "cell_type": "code",
      "source": [
        "np.dot(X, Y)"
      ],
      "metadata": {
        "colab": {
          "base_uri": "https://localhost:8080/"
        },
        "id": "eUZ_GawbBN-B",
        "outputId": "0560906f-8c69-46f3-8fd8-cd6d9c3bc29c"
      },
      "execution_count": 20,
      "outputs": [
        {
          "output_type": "execute_result",
          "data": {
            "text/plain": [
              "array([[ 63,  90,  45,  63,  81],\n",
              "       [135, 198,  93, 135, 177]])"
            ]
          },
          "metadata": {},
          "execution_count": 20
        }
      ]
    },
    {
      "cell_type": "code",
      "source": [
        "X @ Y"
      ],
      "metadata": {
        "colab": {
          "base_uri": "https://localhost:8080/"
        },
        "id": "XD245hJuBW5d",
        "outputId": "970cb7e9-e58c-404e-c1fd-6df8f2e1df8d"
      },
      "execution_count": 22,
      "outputs": [
        {
          "output_type": "execute_result",
          "data": {
            "text/plain": [
              "array([[ 63,  90,  45,  63,  81],\n",
              "       [135, 198,  93, 135, 177]])"
            ]
          },
          "metadata": {},
          "execution_count": 22
        }
      ]
    },
    {
      "cell_type": "code",
      "source": [
        "np.matmul(X, Y)"
      ],
      "metadata": {
        "colab": {
          "base_uri": "https://localhost:8080/"
        },
        "id": "NXCbvJEfBZW2",
        "outputId": "2a501a77-2281-48ab-d71a-c6812d00b513"
      },
      "execution_count": 23,
      "outputs": [
        {
          "output_type": "execute_result",
          "data": {
            "text/plain": [
              "array([[ 63,  90,  45,  63,  81],\n",
              "       [135, 198,  93, 135, 177]])"
            ]
          },
          "metadata": {},
          "execution_count": 23
        }
      ]
    },
    {
      "cell_type": "code",
      "source": [
        "D = np.array([\n",
        "              [10, 20, 30],\n",
        "              [40, 50, 60]\n",
        "])"
      ],
      "metadata": {
        "id": "GxOwqH-BBzxi"
      },
      "execution_count": null,
      "outputs": []
    },
    {
      "cell_type": "markdown",
      "source": [
        "#Rule 1"
      ],
      "metadata": {
        "id": "gmt3NX0vC_xR"
      }
    },
    {
      "cell_type": "markdown",
      "source": [
        ""
      ],
      "metadata": {
        "id": "MYV439PsFsj2"
      }
    },
    {
      "cell_type": "code",
      "source": [
        "L = np.array([\n",
        "              [3, 6, 1, 3, 5],\n",
        "              [9, 12, 7, 9, 11]      \n",
        "])\n",
        "\n",
        "M = np.array([\n",
        "              [2, 4, 5, 6, 7],\n",
        "              [9, 8, 7, 6, 5]      \n",
        "])\n",
        "\n",
        "N = np.array([\n",
        "              [3, 6, 1, 3, 5],\n",
        "              [9, 12, 7, 9, 11],\n",
        "              [12, 24, 36, 42, 54],\n",
        "              [11, 22, 33, 44, 55],\n",
        "              [10, 20, 30, 40, 50]\n",
        "\n",
        "])"
      ],
      "metadata": {
        "id": "fTPimV8LDDdJ"
      },
      "execution_count": 25,
      "outputs": []
    },
    {
      "cell_type": "code",
      "source": [
        "np.dot(L, N)"
      ],
      "metadata": {
        "colab": {
          "base_uri": "https://localhost:8080/"
        },
        "id": "eL7US7-xFMk1",
        "outputId": "1f97bce1-6ade-4d5e-f2a7-c017cf59dd8b"
      },
      "execution_count": 26,
      "outputs": [
        {
          "output_type": "execute_result",
          "data": {
            "text/plain": [
              "array([[ 158,  280,  330,  437,  550],\n",
              "       [ 428,  784,  972, 1265, 1600]])"
            ]
          },
          "metadata": {},
          "execution_count": 26
        }
      ]
    },
    {
      "cell_type": "code",
      "source": [
        "np.dot(M, N)"
      ],
      "metadata": {
        "colab": {
          "base_uri": "https://localhost:8080/"
        },
        "id": "GhqqRAISFQzc",
        "outputId": "38498858-c1ae-423c-a232-a302fe5c85b3"
      },
      "execution_count": 27,
      "outputs": [
        {
          "output_type": "execute_result",
          "data": {
            "text/plain": [
              "array([[ 238,  452,  618,  796, 1004],\n",
              "       [ 299,  550,  665,  857, 1091]])"
            ]
          },
          "metadata": {},
          "execution_count": 27
        }
      ]
    },
    {
      "cell_type": "code",
      "source": [
        "L @ N"
      ],
      "metadata": {
        "colab": {
          "base_uri": "https://localhost:8080/"
        },
        "id": "js2sBKYoFaRs",
        "outputId": "7a13e9be-5ae7-4ef1-9021-946586e7712d"
      },
      "execution_count": 28,
      "outputs": [
        {
          "output_type": "execute_result",
          "data": {
            "text/plain": [
              "array([[ 158,  280,  330,  437,  550],\n",
              "       [ 428,  784,  972, 1265, 1600]])"
            ]
          },
          "metadata": {},
          "execution_count": 28
        }
      ]
    },
    {
      "cell_type": "code",
      "source": [
        "M @ N"
      ],
      "metadata": {
        "colab": {
          "base_uri": "https://localhost:8080/"
        },
        "id": "JVxyATyNFdEp",
        "outputId": "b3926897-2be5-45d8-8c33-47f070fd1455"
      },
      "execution_count": 29,
      "outputs": [
        {
          "output_type": "execute_result",
          "data": {
            "text/plain": [
              "array([[ 238,  452,  618,  796, 1004],\n",
              "       [ 299,  550,  665,  857, 1091]])"
            ]
          },
          "metadata": {},
          "execution_count": 29
        }
      ]
    },
    {
      "cell_type": "code",
      "source": [
        "np.matmul(L, N)"
      ],
      "metadata": {
        "colab": {
          "base_uri": "https://localhost:8080/"
        },
        "id": "QuyG95l5FgAI",
        "outputId": "dfa88aee-10cc-4e10-c125-7e80e0216292"
      },
      "execution_count": 30,
      "outputs": [
        {
          "output_type": "execute_result",
          "data": {
            "text/plain": [
              "array([[ 158,  280,  330,  437,  550],\n",
              "       [ 428,  784,  972, 1265, 1600]])"
            ]
          },
          "metadata": {},
          "execution_count": 30
        }
      ]
    },
    {
      "cell_type": "code",
      "source": [
        "np.matmul(M, N)"
      ],
      "metadata": {
        "colab": {
          "base_uri": "https://localhost:8080/"
        },
        "id": "ytqeekF_FjzZ",
        "outputId": "dc00eb0a-3cf6-48c5-a748-19c41e4c2016"
      },
      "execution_count": 31,
      "outputs": [
        {
          "output_type": "execute_result",
          "data": {
            "text/plain": [
              "array([[ 238,  452,  618,  796, 1004],\n",
              "       [ 299,  550,  665,  857, 1091]])"
            ]
          },
          "metadata": {},
          "execution_count": 31
        }
      ]
    },
    {
      "cell_type": "markdown",
      "source": [
        "#Rule 2"
      ],
      "metadata": {
        "id": "8hMbZPS1GY6O"
      }
    },
    {
      "cell_type": "code",
      "source": [
        "A = np.array([\n",
        "              [3, 6, 1, 3, 5],\n",
        "              [9, 12, 7, 9, 11],\n",
        "              [2, 5, 6, 9, 2]      \n",
        "])\n",
        "\n",
        "B = np.array([\n",
        "              [3, 6, 1],\n",
        "              [9, 12, 5],\n",
        "              [12, 24, 36],\n",
        "              [11, 22, 33],\n",
        "              [10, 20, 30]\n",
        "\n",
        "])\n",
        "\n",
        "C = np.array([\n",
        "              [2, 4, 5],\n",
        "              [9, 8, 7],\n",
        "              [10, 15, 34]\n",
        "])\n",
        "\n"
      ],
      "metadata": {
        "id": "IxPw1a_AGcRy"
      },
      "execution_count": 43,
      "outputs": []
    },
    {
      "cell_type": "code",
      "source": [
        "X = A @ B\n",
        "X"
      ],
      "metadata": {
        "colab": {
          "base_uri": "https://localhost:8080/"
        },
        "id": "Nf37SxGyHk2l",
        "outputId": "27da3fa7-0348-48ca-9df4-811b986f858b"
      },
      "execution_count": 40,
      "outputs": [
        {
          "output_type": "execute_result",
          "data": {
            "text/plain": [
              "array([[158, 280, 318],\n",
              "       [428, 784, 948],\n",
              "       [242, 454, 600]])"
            ]
          },
          "metadata": {},
          "execution_count": 40
        }
      ]
    },
    {
      "cell_type": "code",
      "source": [
        "Y = B @ A\n",
        "Y"
      ],
      "metadata": {
        "colab": {
          "base_uri": "https://localhost:8080/"
        },
        "id": "JhBNFMSrIb23",
        "outputId": "ecb52b82-6d16-45d2-d12b-786863079ae1"
      },
      "execution_count": 41,
      "outputs": [
        {
          "output_type": "execute_result",
          "data": {
            "text/plain": [
              "array([[ 65,  95,  51,  72,  83],\n",
              "       [145, 223, 123, 180, 187],\n",
              "       [324, 540, 396, 576, 396],\n",
              "       [297, 495, 363, 528, 363],\n",
              "       [270, 450, 330, 480, 330]])"
            ]
          },
          "metadata": {},
          "execution_count": 41
        }
      ]
    },
    {
      "cell_type": "code",
      "source": [
        "np.array_equiv(X, Y)"
      ],
      "metadata": {
        "colab": {
          "base_uri": "https://localhost:8080/"
        },
        "id": "7tOHj-fPIgm0",
        "outputId": "927f93b7-3d0c-4ca4-e40f-b19fcc3eb38e"
      },
      "execution_count": 42,
      "outputs": [
        {
          "output_type": "execute_result",
          "data": {
            "text/plain": [
              "False"
            ]
          },
          "metadata": {},
          "execution_count": 42
        }
      ]
    },
    {
      "cell_type": "code",
      "source": [
        "C @ (A @ B)"
      ],
      "metadata": {
        "colab": {
          "base_uri": "https://localhost:8080/"
        },
        "id": "jbxb8PayJCWc",
        "outputId": "81a83d9a-c1dd-4966-c57c-5576447c01ef"
      },
      "execution_count": 44,
      "outputs": [
        {
          "output_type": "execute_result",
          "data": {
            "text/plain": [
              "array([[ 3238,  5966,  7428],\n",
              "       [ 6540, 11970, 14646],\n",
              "       [16228, 29996, 37800]])"
            ]
          },
          "metadata": {},
          "execution_count": 44
        }
      ]
    },
    {
      "cell_type": "code",
      "source": [
        "A @ (B @ C)"
      ],
      "metadata": {
        "colab": {
          "base_uri": "https://localhost:8080/"
        },
        "id": "qMIMoUqHJyTO",
        "outputId": "2271d614-8109-46b0-d646-ac4c28f4c52d"
      },
      "execution_count": 45,
      "outputs": [
        {
          "output_type": "execute_result",
          "data": {
            "text/plain": [
              "array([[ 6016,  7642, 13562],\n",
              "       [17392, 22204, 39860],\n",
              "       [10570, 13600, 24788]])"
            ]
          },
          "metadata": {},
          "execution_count": 45
        }
      ]
    },
    {
      "cell_type": "code",
      "source": [
        ""
      ],
      "metadata": {
        "id": "VvL8d9AbJ9JX"
      },
      "execution_count": null,
      "outputs": []
    },
    {
      "cell_type": "markdown",
      "source": [
        "#Determinant"
      ],
      "metadata": {
        "id": "UUexfwuwHgCw"
      }
    },
    {
      "cell_type": "code",
      "source": [
        "A = np.array([\n",
        "              [1, 4],\n",
        "              [3, 7]\n",
        "])\n",
        "np.linalg.det(A)"
      ],
      "metadata": {
        "colab": {
          "base_uri": "https://localhost:8080/"
        },
        "id": "8mZnDhCXL7vm",
        "outputId": "1c8bacfc-d2ea-4ce4-fd73-a8cdb9be4d5b"
      },
      "execution_count": 52,
      "outputs": [
        {
          "output_type": "execute_result",
          "data": {
            "text/plain": [
              "-5.000000000000001"
            ]
          },
          "metadata": {},
          "execution_count": 52
        }
      ]
    },
    {
      "cell_type": "code",
      "source": [
        "B = np.array([\n",
        "              [1, 4, 5],\n",
        "              [3, 7, 1],\n",
        "              [9, 5, 2]\n",
        "])\n",
        "np.linalg.det(B)"
      ],
      "metadata": {
        "colab": {
          "base_uri": "https://localhost:8080/"
        },
        "id": "1vk1DNCAMLNP",
        "outputId": "6d602ef1-ff5d-4f5f-94e6-9afedbdb84ef"
      },
      "execution_count": 53,
      "outputs": [
        {
          "output_type": "execute_result",
          "data": {
            "text/plain": [
              "-219.00000000000003"
            ]
          },
          "metadata": {},
          "execution_count": 53
        }
      ]
    },
    {
      "cell_type": "markdown",
      "source": [
        "#Inverse"
      ],
      "metadata": {
        "id": "jxLXecPtOQ6N"
      }
    },
    {
      "cell_type": "code",
      "source": [
        "T = np.array([\n",
        "              [4, 6, 7, 8],\n",
        "              [8, 7, 6, 5],\n",
        "              [1, 2, 3, 4],\n",
        "              [9, 3, 4, 1]\n",
        "\n",
        "])\n",
        "np.array(T @ np.linalg.inv(T), dtype=int)"
      ],
      "metadata": {
        "colab": {
          "base_uri": "https://localhost:8080/"
        },
        "id": "esv-ydq2PVXK",
        "outputId": "cc0bda6e-621a-4086-c5e2-95e1cc59615a"
      },
      "execution_count": 61,
      "outputs": [
        {
          "output_type": "execute_result",
          "data": {
            "text/plain": [
              "array([[0, 0, 0, 0],\n",
              "       [0, 0, 0, 0],\n",
              "       [0, 0, 1, 0],\n",
              "       [0, 0, 0, 1]])"
            ]
          },
          "metadata": {},
          "execution_count": 61
        }
      ]
    },
    {
      "cell_type": "code",
      "source": [
        "Q = np.array([\n",
        "              [3, 6, 1],\n",
        "              [9, 12, 7],\n",
        "              [2, 5, 6]      \n",
        "])\n",
        "\n",
        "V = np.linalg.inv(Q)\n",
        "V"
      ],
      "metadata": {
        "colab": {
          "base_uri": "https://localhost:8080/"
        },
        "id": "R4aBV7mWOSyB",
        "outputId": "84b6d0ec-c91e-4d42-8e37-4882744f735c"
      },
      "execution_count": 59,
      "outputs": [
        {
          "output_type": "execute_result",
          "data": {
            "text/plain": [
              "array([[-0.34259259,  0.28703704, -0.27777778],\n",
              "       [ 0.37037037, -0.14814815,  0.11111111],\n",
              "       [-0.19444444,  0.02777778,  0.16666667]])"
            ]
          },
          "metadata": {},
          "execution_count": 59
        }
      ]
    }
  ]
}