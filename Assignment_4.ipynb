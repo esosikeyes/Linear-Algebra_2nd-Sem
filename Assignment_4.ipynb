{
  "nbformat": 4,
  "nbformat_minor": 0,
  "metadata": {
    "colab": {
      "name": "Assignment 4.ipynb",
      "provenance": [],
      "authorship_tag": "ABX9TyOgK5pfn0Y+2p6bTpvmVViM",
      "include_colab_link": true
    },
    "kernelspec": {
      "name": "python3",
      "display_name": "Python 3"
    },
    "language_info": {
      "name": "python"
    }
  },
  "cells": [
    {
      "cell_type": "markdown",
      "metadata": {
        "id": "view-in-github",
        "colab_type": "text"
      },
      "source": [
        "<a href=\"https://colab.research.google.com/github/esosikeyes/Linear-Algebra_2nd-Sem/blob/main/Assignment_4.ipynb\" target=\"_parent\"><img src=\"https://colab.research.google.com/assets/colab-badge.svg\" alt=\"Open In Colab\"/></a>"
      ]
    },
    {
      "cell_type": "markdown",
      "source": [
        "#Linear Algebra for ChE\n",
        "#Laboratory 5: Matrix Operation\n",
        "\n"
      ],
      "metadata": {
        "id": "LshxBK0v8V1L"
      }
    },
    {
      "cell_type": "markdown",
      "source": [
        "#Objectives\n",
        "At the end of this activity you will be able to:\n",
        "1. Be familiar with the fundamental matrix operations.\n",
        "2. Apply the operations to solve intermediate equations.\n",
        "3. Apply matrix algebra in engineering solutions."
      ],
      "metadata": {
        "id": "qVChLCLTFGSF"
      }
    },
    {
      "cell_type": "markdown",
      "source": [
        "#Discussion"
      ],
      "metadata": {
        "id": "cmHoVAgy8qsR"
      }
    },
    {
      "cell_type": "code",
      "source": [
        "import numpy as np\n",
        "import matplotlib.pyplot as plt\n",
        "%matplotlib inline"
      ],
      "metadata": {
        "id": "J5sWEXJD8s8L"
      },
      "execution_count": 3,
      "outputs": []
    },
    {
      "cell_type": "markdown",
      "source": [
        "#Transposition\n",
        "One of the fundamental operations in matrix algebra is Transposition. The transpose of a matrix is done by flipping the values of its elements over its diagonals. With this, the rows and columns from the original matrix will be switched. So for a matrix $A$ its transpose is denoted as $A^T$. So for example:"
      ],
      "metadata": {
        "id": "1NAhcyIF8xs7"
      }
    },
    {
      "cell_type": "markdown",
      "source": [
        "$$\n",
        "A=\\begin{bmatrix} 9 & 8 & 7 \\\\ 6 & {-5} & 4 \\\\ 3 & {-2} & 1 \\end{bmatrix}\n",
        "$$\n"
      ],
      "metadata": {
        "id": "ktCgoYOr9iCl"
      }
    },
    {
      "cell_type": "markdown",
      "source": [
        "$$ A^T = \\begin{bmatrix} 9 & 6 & 3\\\\8 & -5 & -2\\\\ 7 & 4 & 1\\end{bmatrix}$$"
      ],
      "metadata": {
        "id": "wME0XOng_K7y"
      }
    },
    {
      "cell_type": "markdown",
      "source": [
        "This can now be achieved programmatically by using `np.transpose()` or using the `T` method."
      ],
      "metadata": {
        "id": "FC4sRTnFFxTW"
      }
    },
    {
      "cell_type": "code",
      "source": [
        "A = np.array([\n",
        "              [53, 22, 34],\n",
        "              [77, 83 ,96],\n",
        "              [20, 32, 44]\n",
        "\n",
        "])\n",
        "A"
      ],
      "metadata": {
        "colab": {
          "base_uri": "https://localhost:8080/"
        },
        "id": "NNXM8m2N9rys",
        "outputId": "f5b0d6fd-7b3d-47b2-cae4-1d01ce137164"
      },
      "execution_count": null,
      "outputs": [
        {
          "output_type": "execute_result",
          "data": {
            "text/plain": [
              "array([[53, 22, 34],\n",
              "       [77, 83, 96],\n",
              "       [20, 32, 44]])"
            ]
          },
          "metadata": {},
          "execution_count": 6
        }
      ]
    },
    {
      "cell_type": "code",
      "source": [
        "AT1 = np.transpose(A)\n",
        "AT1"
      ],
      "metadata": {
        "colab": {
          "base_uri": "https://localhost:8080/"
        },
        "id": "1tox9dVV97Ot",
        "outputId": "0bdce8e3-e3f8-4372-876c-8ff1970be494"
      },
      "execution_count": null,
      "outputs": [
        {
          "output_type": "execute_result",
          "data": {
            "text/plain": [
              "array([[53, 77, 20],\n",
              "       [22, 83, 32],\n",
              "       [34, 96, 44]])"
            ]
          },
          "metadata": {},
          "execution_count": 7
        }
      ]
    },
    {
      "cell_type": "code",
      "source": [
        "AT2 = A.T\n",
        "AT2"
      ],
      "metadata": {
        "colab": {
          "base_uri": "https://localhost:8080/"
        },
        "id": "j9L0GVqu-y4X",
        "outputId": "f75df3e2-8d0a-4fcb-eaaf-a18963c55d7b"
      },
      "execution_count": null,
      "outputs": [
        {
          "output_type": "execute_result",
          "data": {
            "text/plain": [
              "array([[53, 77, 20],\n",
              "       [22, 83, 32],\n",
              "       [34, 96, 44]])"
            ]
          },
          "metadata": {},
          "execution_count": 9
        }
      ]
    },
    {
      "cell_type": "code",
      "source": [
        "np.array_equiv(AT1, AT2)"
      ],
      "metadata": {
        "colab": {
          "base_uri": "https://localhost:8080/"
        },
        "id": "TC6pNcla-8dI",
        "outputId": "2ff32eb1-434c-4471-e87b-7fa5aaf5a109"
      },
      "execution_count": null,
      "outputs": [
        {
          "output_type": "execute_result",
          "data": {
            "text/plain": [
              "True"
            ]
          },
          "metadata": {},
          "execution_count": 10
        }
      ]
    },
    {
      "cell_type": "code",
      "source": [
        "B = np.array([\n",
        "              [11, 22, 33, 44, 1],\n",
        "              [55, 66, 77, 88, 2],\n",
        "              [99, 100, 110, 120, 3]\n",
        "])\n",
        "B.shape"
      ],
      "metadata": {
        "colab": {
          "base_uri": "https://localhost:8080/"
        },
        "id": "QR1n3a7R_Za2",
        "outputId": "471a8f26-d11a-4130-f73d-1cd12df8232e"
      },
      "execution_count": null,
      "outputs": [
        {
          "output_type": "execute_result",
          "data": {
            "text/plain": [
              "(3, 5)"
            ]
          },
          "metadata": {},
          "execution_count": 15
        }
      ]
    },
    {
      "cell_type": "code",
      "source": [
        "np.transpose(B).shape"
      ],
      "metadata": {
        "colab": {
          "base_uri": "https://localhost:8080/"
        },
        "id": "q_EmsKTu_nIT",
        "outputId": "13c477f5-e35b-45c6-da93-ec54c9c5f47c"
      },
      "execution_count": null,
      "outputs": [
        {
          "output_type": "execute_result",
          "data": {
            "text/plain": [
              "(5, 3)"
            ]
          },
          "metadata": {},
          "execution_count": 16
        }
      ]
    },
    {
      "cell_type": "code",
      "source": [
        "B.T.shape"
      ],
      "metadata": {
        "colab": {
          "base_uri": "https://localhost:8080/"
        },
        "id": "4STuolmC_0ck",
        "outputId": "194bf7f9-9c73-42a2-8575-966b49a83003"
      },
      "execution_count": null,
      "outputs": [
        {
          "output_type": "execute_result",
          "data": {
            "text/plain": [
              "(5, 3)"
            ]
          },
          "metadata": {},
          "execution_count": 17
        }
      ]
    },
    {
      "cell_type": "code",
      "source": [
        ""
      ],
      "metadata": {
        "id": "5cGMnxh9F4gm"
      },
      "execution_count": null,
      "outputs": []
    },
    {
      "cell_type": "markdown",
      "source": [
        "#Dot Product / Inner Product"
      ],
      "metadata": {
        "id": "UbC4x0SxAW7H"
      }
    },
    {
      "cell_type": "markdown",
      "source": [
        "The dot product from laboratory activity before, we will try to implement the same operation with matrices. In matrix dot product we are going to get the sum of products of the vectors by row-column pairs. So if we have two matrices $X$ and $Y$:\n",
        "\n",
        "$$X = \\begin{bmatrix}x_{(0,0)}&x_{(0,1)}\\\\ x_{(1,0)}&x_{(1,1)}\\end{bmatrix}, Y = \\begin{bmatrix}y_{(0,0)}&y_{(0,1)}\\\\ y_{(1,0)}&y_{(1,1)}\\end{bmatrix}$$\n",
        "\n",
        "The dot product will then be computed as:\n",
        "$$X \\cdot Y= \\begin{bmatrix} x_{(0,0)}*y_{(0,0)} + x_{(0,1)}*y_{(1,0)} & x_{(0,0)}*y_{(0,1)} + x_{(0,1)}*y_{(1,1)} \\\\  x_{(1,0)}*y_{(0,0)} + x_{(1,1)}*y_{(1,0)} & x_{(1,0)}*y_{(0,1)} + x_{(1,1)}*y_{(1,1)}\n",
        "\\end{bmatrix}$$\n",
        "\n",
        "We assign values to $X$ and $Y$:\n",
        "$$X = \\begin{bmatrix}1&2\\\\ 0&1\\end{bmatrix}, Y = \\begin{bmatrix}-1&0\\\\ 2&2\\end{bmatrix}$$"
      ],
      "metadata": {
        "id": "2FLywmeJF39W"
      }
    },
    {
      "cell_type": "markdown",
      "source": [
        "$$X \\cdot Y= \\begin{bmatrix} 1*-1 + 2*2 & 1*0 + 2*2 \\\\  0*-1 + 1*2 & 0*0 + 1*2 \\end{bmatrix} = \\begin{bmatrix} 3 & 4 \\\\2 & 2 \\end{bmatrix}$$\n",
        "This could be achieved programmatically using `np.dot()`, `np.matmul()` or the `@` operator."
      ],
      "metadata": {
        "id": "oyN1MwsnF8vD"
      }
    },
    {
      "cell_type": "code",
      "source": [
        "X = np.array([\n",
        "              [3, 6],\n",
        "              [9, 12]      \n",
        "])\n",
        "\n",
        "Y = np.array([\n",
        "              [3, 6, 1, 3, 5],\n",
        "              [9, 12, 7, 9, 11]      \n",
        "])"
      ],
      "metadata": {
        "id": "Z9FR4_eGArsd"
      },
      "execution_count": 4,
      "outputs": []
    },
    {
      "cell_type": "code",
      "source": [
        "np.array_equiv(X, Y)"
      ],
      "metadata": {
        "colab": {
          "base_uri": "https://localhost:8080/"
        },
        "id": "JGVSOuHUBSCL",
        "outputId": "40b94cee-16e0-4960-a741-0fce0df5826c"
      },
      "execution_count": 5,
      "outputs": [
        {
          "output_type": "execute_result",
          "data": {
            "text/plain": [
              "False"
            ]
          },
          "metadata": {},
          "execution_count": 5
        }
      ]
    },
    {
      "cell_type": "code",
      "source": [
        "np.dot(X, Y)"
      ],
      "metadata": {
        "colab": {
          "base_uri": "https://localhost:8080/"
        },
        "id": "eUZ_GawbBN-B",
        "outputId": "388e2db1-09cb-4bb2-cfa6-61df3d5f1732"
      },
      "execution_count": 6,
      "outputs": [
        {
          "output_type": "execute_result",
          "data": {
            "text/plain": [
              "array([[ 63,  90,  45,  63,  81],\n",
              "       [135, 198,  93, 135, 177]])"
            ]
          },
          "metadata": {},
          "execution_count": 6
        }
      ]
    },
    {
      "cell_type": "code",
      "source": [
        "X.dot(Y)"
      ],
      "metadata": {
        "colab": {
          "base_uri": "https://localhost:8080/"
        },
        "id": "6x4hYUJRGaao",
        "outputId": "f8471f4e-b918-4733-f066-741d61203ce4"
      },
      "execution_count": 7,
      "outputs": [
        {
          "output_type": "execute_result",
          "data": {
            "text/plain": [
              "array([[ 63,  90,  45,  63,  81],\n",
              "       [135, 198,  93, 135, 177]])"
            ]
          },
          "metadata": {},
          "execution_count": 7
        }
      ]
    },
    {
      "cell_type": "code",
      "source": [
        "X @ Y"
      ],
      "metadata": {
        "colab": {
          "base_uri": "https://localhost:8080/"
        },
        "id": "XD245hJuBW5d",
        "outputId": "970cb7e9-e58c-404e-c1fd-6df8f2e1df8d"
      },
      "execution_count": null,
      "outputs": [
        {
          "output_type": "execute_result",
          "data": {
            "text/plain": [
              "array([[ 63,  90,  45,  63,  81],\n",
              "       [135, 198,  93, 135, 177]])"
            ]
          },
          "metadata": {},
          "execution_count": 22
        }
      ]
    },
    {
      "cell_type": "code",
      "source": [
        "np.matmul(X, Y)"
      ],
      "metadata": {
        "colab": {
          "base_uri": "https://localhost:8080/"
        },
        "id": "NXCbvJEfBZW2",
        "outputId": "2a501a77-2281-48ab-d71a-c6812d00b513"
      },
      "execution_count": null,
      "outputs": [
        {
          "output_type": "execute_result",
          "data": {
            "text/plain": [
              "array([[ 63,  90,  45,  63,  81],\n",
              "       [135, 198,  93, 135, 177]])"
            ]
          },
          "metadata": {},
          "execution_count": 23
        }
      ]
    },
    {
      "cell_type": "code",
      "source": [
        "D = np.array([\n",
        "              [10, 20, 30],\n",
        "              [40, 50, 60]\n",
        "])\n",
        "E = np.array([\n",
        "              [70, 80, 90, 100],\n",
        "              [100, 110, 120, 130],\n",
        "              [140, 150, 160, 170]\n",
        "])"
      ],
      "metadata": {
        "id": "GxOwqH-BBzxi"
      },
      "execution_count": 8,
      "outputs": []
    },
    {
      "cell_type": "code",
      "source": [
        "D @ E"
      ],
      "metadata": {
        "colab": {
          "base_uri": "https://localhost:8080/"
        },
        "id": "8maqVxYzHCQk",
        "outputId": "d81f95dd-d57d-411b-b54e-c40f73403630"
      },
      "execution_count": 10,
      "outputs": [
        {
          "output_type": "execute_result",
          "data": {
            "text/plain": [
              "array([[ 6900,  7500,  8100,  8700],\n",
              "       [16200, 17700, 19200, 20700]])"
            ]
          },
          "metadata": {},
          "execution_count": 10
        }
      ]
    },
    {
      "cell_type": "code",
      "source": [
        "D.dot(E)"
      ],
      "metadata": {
        "colab": {
          "base_uri": "https://localhost:8080/"
        },
        "id": "eA-uz0M7HFVD",
        "outputId": "db85c14c-96cd-4802-fb0a-3c40da012b36"
      },
      "execution_count": 11,
      "outputs": [
        {
          "output_type": "execute_result",
          "data": {
            "text/plain": [
              "array([[ 6900,  7500,  8100,  8700],\n",
              "       [16200, 17700, 19200, 20700]])"
            ]
          },
          "metadata": {},
          "execution_count": 11
        }
      ]
    },
    {
      "cell_type": "code",
      "source": [
        "np.matmul(D, E)"
      ],
      "metadata": {
        "colab": {
          "base_uri": "https://localhost:8080/"
        },
        "id": "0v4pd9wyHMoa",
        "outputId": "ed156c16-76c0-4954-9f00-6233facd14e8"
      },
      "execution_count": 12,
      "outputs": [
        {
          "output_type": "execute_result",
          "data": {
            "text/plain": [
              "array([[ 6900,  7500,  8100,  8700],\n",
              "       [16200, 17700, 19200, 20700]])"
            ]
          },
          "metadata": {},
          "execution_count": 12
        }
      ]
    },
    {
      "cell_type": "code",
      "source": [
        "np.dot(D, E)"
      ],
      "metadata": {
        "colab": {
          "base_uri": "https://localhost:8080/"
        },
        "id": "tPRFMAipHQXh",
        "outputId": "bc79efa6-0394-4b93-df6a-d14c34ee487c"
      },
      "execution_count": 13,
      "outputs": [
        {
          "output_type": "execute_result",
          "data": {
            "text/plain": [
              "array([[ 6900,  7500,  8100,  8700],\n",
              "       [16200, 17700, 19200, 20700]])"
            ]
          },
          "metadata": {},
          "execution_count": 13
        }
      ]
    },
    {
      "cell_type": "markdown",
      "source": [
        "In matrix dot products there are additional rules compared with vector dot products. Since vector dot products were just in one dimension there are less restrictions. Since now we are dealing with Rank 2 vectors we need to consider some rules:\n",
        "\n",
        "### Rule 1: The inner dimensions of the two matrices in question must be the same. \n",
        "\n",
        "Given a matrix $A$ with a shape of $(a,b)$ where $a$ and $b$ are any integers. If we want to do a dot product between $A$ and another matrix $B$, then matrix $B$ should have a shape of $(b,c)$ where $b$ and $c$ are any integers. So for given the following matrices:\n",
        "\n",
        "$$A = \\begin{bmatrix}2&4\\\\5&-2\\\\6&-8\\\\0&1\\end{bmatrix}, B = \\begin{bmatrix}1&1\\\\3&3\\\\9&-9\\\\-1&-2\\end{bmatrix}, C = \\begin{bmatrix}0&1&1\\\\8&8&8\\\\1&1&2\\end{bmatrix}$$\n",
        "\n",
        "In this case $A$ has a shape of $(4,2)$, $B$ has a shape of $(4,2)$ and $C$ has a shape of $(3,3)$. So the only matrix pairs that is eligible to perform dot product is matrices $A \\cdot C$, or $B \\cdot C$.  "
      ],
      "metadata": {
        "id": "MYV439PsFsj2"
      }
    },
    {
      "cell_type": "code",
      "source": [
        "L = np.array([\n",
        "              [3, 6, 1, 3, 5],\n",
        "              [9, 12, 7, 9, 11]      \n",
        "])\n",
        "\n",
        "M = np.array([\n",
        "              [2, 4, 5, 6, 7],\n",
        "              [9, 8, 7, 6, 5]      \n",
        "])\n",
        "\n",
        "N = np.array([\n",
        "              [3, 6, 1, 3, 5],\n",
        "              [9, 12, 7, 9, 11],\n",
        "              [12, 24, 36, 42, 54],\n",
        "              [11, 22, 33, 44, 55],\n",
        "              [10, 20, 30, 40, 50]\n",
        "\n",
        "])"
      ],
      "metadata": {
        "id": "fTPimV8LDDdJ"
      },
      "execution_count": null,
      "outputs": []
    },
    {
      "cell_type": "code",
      "source": [
        "np.dot(L, N)"
      ],
      "metadata": {
        "colab": {
          "base_uri": "https://localhost:8080/"
        },
        "id": "eL7US7-xFMk1",
        "outputId": "1f97bce1-6ade-4d5e-f2a7-c017cf59dd8b"
      },
      "execution_count": null,
      "outputs": [
        {
          "output_type": "execute_result",
          "data": {
            "text/plain": [
              "array([[ 158,  280,  330,  437,  550],\n",
              "       [ 428,  784,  972, 1265, 1600]])"
            ]
          },
          "metadata": {},
          "execution_count": 26
        }
      ]
    },
    {
      "cell_type": "code",
      "source": [
        "np.dot(M, N)"
      ],
      "metadata": {
        "colab": {
          "base_uri": "https://localhost:8080/"
        },
        "id": "GhqqRAISFQzc",
        "outputId": "38498858-c1ae-423c-a232-a302fe5c85b3"
      },
      "execution_count": null,
      "outputs": [
        {
          "output_type": "execute_result",
          "data": {
            "text/plain": [
              "array([[ 238,  452,  618,  796, 1004],\n",
              "       [ 299,  550,  665,  857, 1091]])"
            ]
          },
          "metadata": {},
          "execution_count": 27
        }
      ]
    },
    {
      "cell_type": "code",
      "source": [
        "L @ N"
      ],
      "metadata": {
        "colab": {
          "base_uri": "https://localhost:8080/"
        },
        "id": "js2sBKYoFaRs",
        "outputId": "7a13e9be-5ae7-4ef1-9021-946586e7712d"
      },
      "execution_count": null,
      "outputs": [
        {
          "output_type": "execute_result",
          "data": {
            "text/plain": [
              "array([[ 158,  280,  330,  437,  550],\n",
              "       [ 428,  784,  972, 1265, 1600]])"
            ]
          },
          "metadata": {},
          "execution_count": 28
        }
      ]
    },
    {
      "cell_type": "code",
      "source": [
        "M @ N"
      ],
      "metadata": {
        "colab": {
          "base_uri": "https://localhost:8080/"
        },
        "id": "JVxyATyNFdEp",
        "outputId": "b3926897-2be5-45d8-8c33-47f070fd1455"
      },
      "execution_count": null,
      "outputs": [
        {
          "output_type": "execute_result",
          "data": {
            "text/plain": [
              "array([[ 238,  452,  618,  796, 1004],\n",
              "       [ 299,  550,  665,  857, 1091]])"
            ]
          },
          "metadata": {},
          "execution_count": 29
        }
      ]
    },
    {
      "cell_type": "code",
      "source": [
        "np.matmul(L, N)"
      ],
      "metadata": {
        "colab": {
          "base_uri": "https://localhost:8080/"
        },
        "id": "QuyG95l5FgAI",
        "outputId": "dfa88aee-10cc-4e10-c125-7e80e0216292"
      },
      "execution_count": null,
      "outputs": [
        {
          "output_type": "execute_result",
          "data": {
            "text/plain": [
              "array([[ 158,  280,  330,  437,  550],\n",
              "       [ 428,  784,  972, 1265, 1600]])"
            ]
          },
          "metadata": {},
          "execution_count": 30
        }
      ]
    },
    {
      "cell_type": "code",
      "source": [
        "np.matmul(M, N)"
      ],
      "metadata": {
        "colab": {
          "base_uri": "https://localhost:8080/"
        },
        "id": "ytqeekF_FjzZ",
        "outputId": "dc00eb0a-3cf6-48c5-a748-19c41e4c2016"
      },
      "execution_count": null,
      "outputs": [
        {
          "output_type": "execute_result",
          "data": {
            "text/plain": [
              "array([[ 238,  452,  618,  796, 1004],\n",
              "       [ 299,  550,  665,  857, 1091]])"
            ]
          },
          "metadata": {},
          "execution_count": 31
        }
      ]
    },
    {
      "cell_type": "markdown",
      "source": [
        "And you can see that when you try to multiply A and B, it returns `ValueError` pertaining to matrix shape mismatch."
      ],
      "metadata": {
        "id": "0poyC8oDH8FB"
      }
    },
    {
      "cell_type": "markdown",
      "source": [
        "### Rule 2: Dot Product has special properties\n",
        "\n",
        "Dot products are prevalent in matrix algebra, this implies that it has several unique properties and it should be considered when formulation solutions:\n",
        " 1. $A \\cdot B \\neq B \\cdot A$\n",
        " 2. $A \\cdot (B \\cdot C) = (A \\cdot B) \\cdot C$\n",
        " 3. $A\\cdot(B+C) = A\\cdot B + A\\cdot C$\n",
        " 4. $(B+C)\\cdot A = B\\cdot A + C\\cdot A$\n",
        " 5. $A\\cdot I = A$\n",
        " 6. $A\\cdot \\emptyset = \\emptyset$ "
      ],
      "metadata": {
        "id": "0DCmgQrdHzD-"
      }
    },
    {
      "cell_type": "code",
      "source": [
        "A = np.array([\n",
        "              [3, 6, 1, 3, 5],\n",
        "              [9, 12, 7, 9, 11],\n",
        "              [2, 5, 6, 9, 2]      \n",
        "])\n",
        "\n",
        "B = np.array([\n",
        "              [3, 6, 1],\n",
        "              [9, 12, 5],\n",
        "              [12, 24, 36],\n",
        "              [11, 22, 33],\n",
        "              [10, 20, 30]\n",
        "\n",
        "])\n",
        "\n",
        "C = np.array([\n",
        "              [2, 4, 5],\n",
        "              [9, 8, 7],\n",
        "              [10, 15, 34]\n",
        "])\n",
        "\n"
      ],
      "metadata": {
        "id": "IxPw1a_AGcRy"
      },
      "execution_count": 15,
      "outputs": []
    },
    {
      "cell_type": "code",
      "source": [
        "X = A @ B\n",
        "X"
      ],
      "metadata": {
        "colab": {
          "base_uri": "https://localhost:8080/"
        },
        "id": "Nf37SxGyHk2l",
        "outputId": "8f79183d-172f-4a9b-f218-96d7a5acf5f1"
      },
      "execution_count": 16,
      "outputs": [
        {
          "output_type": "execute_result",
          "data": {
            "text/plain": [
              "array([[158, 280, 318],\n",
              "       [428, 784, 948],\n",
              "       [242, 454, 600]])"
            ]
          },
          "metadata": {},
          "execution_count": 16
        }
      ]
    },
    {
      "cell_type": "code",
      "source": [
        "Y = B @ A\n",
        "Y"
      ],
      "metadata": {
        "colab": {
          "base_uri": "https://localhost:8080/"
        },
        "id": "JhBNFMSrIb23",
        "outputId": "dce9a719-5156-4f35-a65e-670a7a7d1725"
      },
      "execution_count": 17,
      "outputs": [
        {
          "output_type": "execute_result",
          "data": {
            "text/plain": [
              "array([[ 65,  95,  51,  72,  83],\n",
              "       [145, 223, 123, 180, 187],\n",
              "       [324, 540, 396, 576, 396],\n",
              "       [297, 495, 363, 528, 363],\n",
              "       [270, 450, 330, 480, 330]])"
            ]
          },
          "metadata": {},
          "execution_count": 17
        }
      ]
    },
    {
      "cell_type": "code",
      "source": [
        "np.array_equiv(X, Y)"
      ],
      "metadata": {
        "colab": {
          "base_uri": "https://localhost:8080/"
        },
        "id": "7tOHj-fPIgm0",
        "outputId": "fe8fae61-9679-4c21-d837-d9b6fc00bd6c"
      },
      "execution_count": 18,
      "outputs": [
        {
          "output_type": "execute_result",
          "data": {
            "text/plain": [
              "False"
            ]
          },
          "metadata": {},
          "execution_count": 18
        }
      ]
    },
    {
      "cell_type": "code",
      "source": [
        "C @ (A @ B)"
      ],
      "metadata": {
        "colab": {
          "base_uri": "https://localhost:8080/"
        },
        "id": "jbxb8PayJCWc",
        "outputId": "fe3903cc-20cb-4302-f0a0-2f5f87e1e84b"
      },
      "execution_count": 19,
      "outputs": [
        {
          "output_type": "execute_result",
          "data": {
            "text/plain": [
              "array([[ 3238,  5966,  7428],\n",
              "       [ 6540, 11970, 14646],\n",
              "       [16228, 29996, 37800]])"
            ]
          },
          "metadata": {},
          "execution_count": 19
        }
      ]
    },
    {
      "cell_type": "code",
      "source": [
        "T = A @ (B @ C)\n",
        "T"
      ],
      "metadata": {
        "colab": {
          "base_uri": "https://localhost:8080/"
        },
        "id": "qMIMoUqHJyTO",
        "outputId": "1f05e0b7-a2b7-412e-c665-054f6c09b7cc"
      },
      "execution_count": 20,
      "outputs": [
        {
          "output_type": "execute_result",
          "data": {
            "text/plain": [
              "array([[ 6016,  7642, 13562],\n",
              "       [17392, 22204, 39860],\n",
              "       [10570, 13600, 24788]])"
            ]
          },
          "metadata": {},
          "execution_count": 20
        }
      ]
    },
    {
      "cell_type": "code",
      "source": [
        "U = (A @ B) @ C\n",
        "U"
      ],
      "metadata": {
        "id": "VvL8d9AbJ9JX",
        "colab": {
          "base_uri": "https://localhost:8080/"
        },
        "outputId": "10b615d2-5506-4187-cac9-24bb9538fe1d"
      },
      "execution_count": 22,
      "outputs": [
        {
          "output_type": "execute_result",
          "data": {
            "text/plain": [
              "array([[ 6016,  7642, 13562],\n",
              "       [17392, 22204, 39860],\n",
              "       [10570, 13600, 24788]])"
            ]
          },
          "metadata": {},
          "execution_count": 22
        }
      ]
    },
    {
      "cell_type": "code",
      "source": [
        "np.array_equal(T, X)"
      ],
      "metadata": {
        "colab": {
          "base_uri": "https://localhost:8080/"
        },
        "id": "AlLN6pSBJNBD",
        "outputId": "8615ba2b-e64d-48c1-dd0f-13bdc6b1a27d"
      },
      "execution_count": 23,
      "outputs": [
        {
          "output_type": "execute_result",
          "data": {
            "text/plain": [
              "False"
            ]
          },
          "metadata": {},
          "execution_count": 23
        }
      ]
    },
    {
      "cell_type": "code",
      "source": [
        "np.array_equiv(T, U)"
      ],
      "metadata": {
        "colab": {
          "base_uri": "https://localhost:8080/"
        },
        "id": "g8UOeO2KJVtE",
        "outputId": "b18107d0-3435-4c67-8181-95584430e300"
      },
      "execution_count": 24,
      "outputs": [
        {
          "output_type": "execute_result",
          "data": {
            "text/plain": [
              "True"
            ]
          },
          "metadata": {},
          "execution_count": 24
        }
      ]
    },
    {
      "cell_type": "markdown",
      "source": [
        "#Determinant"
      ],
      "metadata": {
        "id": "UUexfwuwHgCw"
      }
    },
    {
      "cell_type": "markdown",
      "source": [
        "A determinant is a scalar value derived from a square matrix. The determinant is a fundamental and important value used in matrix algebra. Although it will not be evident in this laboratory on how it can be used practically, but it will be reatly used in future lessons.\n",
        "\n",
        "The determinant of some matrix $A$ is denoted as $det(A)$ or $|A|$. So let's say $A$ is represented as:\n",
        "$$A = \\begin{bmatrix}a_{(0,0)}&a_{(0,1)}\\\\a_{(1,0)}&a_{(1,1)}\\end{bmatrix}$$\n",
        "We can compute for the determinant as:\n",
        "$$|A| = a_{(0,0)}*a_{(1,1)} - a_{(1,0)}*a_{(0,1)}$$\n",
        "Thus we have $A$ as:\n",
        "$$A = \\begin{bmatrix}1&4\\\\0&3\\end{bmatrix}, |A| = 3$$\n",
        "\n",
        "But you might wonder how about square matrices beyond the shape $(2,2)$? We can approach this problem by using several methods such as co-factor expansion and the minors method. This can be taught in the lecture of the laboratory but we can achieve the strenuous computation of high-dimensional matrices programmatically using Python. We can achieve this by using `np.linalg.det()`."
      ],
      "metadata": {
        "id": "XA5-3xnBIKpe"
      }
    },
    {
      "cell_type": "code",
      "source": [
        "A = np.array([\n",
        "              [1, 4],\n",
        "              [3, 7]\n",
        "])\n",
        "np.linalg.det(A)"
      ],
      "metadata": {
        "colab": {
          "base_uri": "https://localhost:8080/"
        },
        "id": "8mZnDhCXL7vm",
        "outputId": "1c8bacfc-d2ea-4ce4-fd73-a8cdb9be4d5b"
      },
      "execution_count": null,
      "outputs": [
        {
          "output_type": "execute_result",
          "data": {
            "text/plain": [
              "-5.000000000000001"
            ]
          },
          "metadata": {},
          "execution_count": 52
        }
      ]
    },
    {
      "cell_type": "code",
      "source": [
        "B = np.array([\n",
        "              [1, 4, 5],\n",
        "              [3, 7, 1],\n",
        "              [9, 5, 2]\n",
        "])\n",
        "np.linalg.det(B)"
      ],
      "metadata": {
        "colab": {
          "base_uri": "https://localhost:8080/"
        },
        "id": "1vk1DNCAMLNP",
        "outputId": "6d602ef1-ff5d-4f5f-94e6-9afedbdb84ef"
      },
      "execution_count": null,
      "outputs": [
        {
          "output_type": "execute_result",
          "data": {
            "text/plain": [
              "-219.00000000000003"
            ]
          },
          "metadata": {},
          "execution_count": 53
        }
      ]
    },
    {
      "cell_type": "markdown",
      "source": [
        "#Inverse"
      ],
      "metadata": {
        "id": "jxLXecPtOQ6N"
      }
    },
    {
      "cell_type": "markdown",
      "source": [
        "The inverse of a matrix is another fundamental operation in matrix algebra. Determining the inverse of a matrix let us determine if its solvability and its characteristic as a system of linear equation — we'll expand on this in the nect module. Another use of the inverse matrix is solving the problem of divisibility between matrices. Although element-wise division exists but dividing the entire concept of matrices does not exists. Inverse matrices provides a related operation that could have the same concept of \"dividing\" matrices.\n",
        "\n",
        "Now to determine the inverse of a matrix we need to perform several steps. So let's say we have a matrix $M$:\n",
        "$$M = \\begin{bmatrix}1&7\\\\-3&5\\end{bmatrix}$$\n",
        "First, we need to get the determinant of $M$.\n",
        "$$|M| = (1)(5)-(-3)(7) = 26$$\n",
        "Next, we need to reform the matrix into the inverse form:\n",
        "$$M^{-1} = \\frac{1}{|M|} \\begin{bmatrix} m_{(1,1)} & -m_{(0,1)} \\\\ -m_{(1,0)} & m_{(0,0)}\\end{bmatrix}$$\n",
        "That will be:\n",
        "$$M^{-1} = \\frac{1}{26} \\begin{bmatrix} 5 & -7 \\\\ 3 & 1\\end{bmatrix} = \\begin{bmatrix} \\frac{5}{26} & \\frac{-7}{26} \\\\ \\frac{3}{26} & \\frac{1}{26}\\end{bmatrix}$$\n",
        "For higher-dimension matrices you might need to use co-factors, minors, adjugates, and other reduction techinques. To solve this programmatially we can use `np.linalg.inv()`."
      ],
      "metadata": {
        "id": "c7PBCB5qIPil"
      }
    },
    {
      "cell_type": "code",
      "source": [
        "T = np.array([\n",
        "              [4, 6, 7, 8],\n",
        "              [8, 7, 6, 5],\n",
        "              [1, 2, 3, 4],\n",
        "              [9, 3, 4, 1]\n",
        "\n",
        "])\n",
        "np.array(T @ np.linalg.inv(T), dtype=int)"
      ],
      "metadata": {
        "colab": {
          "base_uri": "https://localhost:8080/"
        },
        "id": "esv-ydq2PVXK",
        "outputId": "6464b2f1-f0e7-4cd5-82b0-f7070cd51dd2"
      },
      "execution_count": 28,
      "outputs": [
        {
          "output_type": "execute_result",
          "data": {
            "text/plain": [
              "array([[0, 0, 0, 0],\n",
              "       [0, 0, 0, 0],\n",
              "       [0, 0, 1, 0],\n",
              "       [0, 0, 0, 1]])"
            ]
          },
          "metadata": {},
          "execution_count": 28
        }
      ]
    },
    {
      "cell_type": "code",
      "source": [
        "Q = np.array([\n",
        "              [3, 6, 1],\n",
        "              [9, 12, 7],\n",
        "              [2, 5, 6]   \n",
        "])\n",
        "\n",
        "V = np.linalg.inv(Q)\n",
        "V"
      ],
      "metadata": {
        "colab": {
          "base_uri": "https://localhost:8080/"
        },
        "id": "R4aBV7mWOSyB",
        "outputId": "69c29cd3-e173-4738-917c-5dd34af3ffb7"
      },
      "execution_count": 34,
      "outputs": [
        {
          "output_type": "execute_result",
          "data": {
            "text/plain": [
              "array([[-0.34259259,  0.28703704, -0.27777778],\n",
              "       [ 0.37037037, -0.14814815,  0.11111111],\n",
              "       [-0.19444444,  0.02777778,  0.16666667]])"
            ]
          },
          "metadata": {},
          "execution_count": 34
        }
      ]
    },
    {
      "cell_type": "code",
      "source": [
        "Q @ V"
      ],
      "metadata": {
        "colab": {
          "base_uri": "https://localhost:8080/"
        },
        "id": "IT6sWIASKahT",
        "outputId": "384e8f3e-3db2-4222-cfba-c0995d8e7d66"
      },
      "execution_count": 37,
      "outputs": [
        {
          "output_type": "execute_result",
          "data": {
            "text/plain": [
              "array([[ 1.00000000e+00, -1.21430643e-16, -2.22044605e-16],\n",
              "       [ 4.99600361e-16,  1.00000000e+00, -1.66533454e-16],\n",
              "       [ 1.11022302e-16, -6.24500451e-17,  1.00000000e+00]])"
            ]
          },
          "metadata": {},
          "execution_count": 37
        }
      ]
    },
    {
      "cell_type": "code",
      "source": [
        "## And now let's test your skills in solving a matrix with high dimensions:\n",
        "N = np.array([\n",
        "    [18,5,23,1,0,33,5],\n",
        "    [0,45,0,11,2,4,2],\n",
        "    [5,9,20,0,0,0,3],\n",
        "    [1,6,4,4,8,43,1],\n",
        "    [8,6,8,7,1,6,1],\n",
        "    [-5,15,2,0,0,6,-30],\n",
        "    [-2,-5,1,2,1,20,12],\n",
        "])\n",
        "N_inv = np.linalg.inv(N)\n",
        "np.array(N @ N_inv,dtype=int)"
      ],
      "metadata": {
        "colab": {
          "base_uri": "https://localhost:8080/"
        },
        "id": "M2uAuK4kKyn0",
        "outputId": "e87ba73e-0d65-48f7-fb24-6623d0f51ea5"
      },
      "execution_count": 38,
      "outputs": [
        {
          "output_type": "execute_result",
          "data": {
            "text/plain": [
              "array([[0, 0, 0, 0, 0, 0, 0],\n",
              "       [0, 0, 0, 0, 0, 0, 0],\n",
              "       [0, 0, 1, 0, 0, 0, 0],\n",
              "       [0, 0, 0, 1, 0, 0, 0],\n",
              "       [0, 0, 0, 0, 0, 0, 0],\n",
              "       [0, 0, 0, 0, 0, 0, 0],\n",
              "       [0, 0, 0, 0, 0, 0, 0]])"
            ]
          },
          "metadata": {},
          "execution_count": 38
        }
      ]
    },
    {
      "cell_type": "markdown",
      "source": [
        "To validate the wether if the matric that you have solved is really the inverse, we follow this dot product property for a matrix $M$:\n",
        "$$M\\cdot M^{-1} = I$$"
      ],
      "metadata": {
        "id": "jUeKvmGDK4sm"
      }
    },
    {
      "cell_type": "code",
      "source": [
        "squad = np.array([\n",
        "    [2.0, 1.0, 1.5],\n",
        "    [1.25, 1.0, 1.5],\n",
        "    [1.75, 1.5, 1.0]\n",
        "])\n",
        "weights = np.array([\n",
        "    [0.2, 0.2, 0.6]\n",
        "])\n",
        "p_grade = squad @ weights.T\n",
        "p_grade"
      ],
      "metadata": {
        "colab": {
          "base_uri": "https://localhost:8080/"
        },
        "id": "yrRI5FlvK8uS",
        "outputId": "ea9dc640-837a-4e00-916d-b84b3ea82596"
      },
      "execution_count": 39,
      "outputs": [
        {
          "output_type": "execute_result",
          "data": {
            "text/plain": [
              "array([[1.5 ],\n",
              "       [1.35],\n",
              "       [1.25]])"
            ]
          },
          "metadata": {},
          "execution_count": 39
        }
      ]
    },
    {
      "cell_type": "markdown",
      "source": [
        "#Task 1\n",
        "Prove and implement the remaining 6 matrix multiplication properties. You may create your own matrices in which their shapes should not be lower than $(3,3)$.\n",
        "\n",
        "In your methodology, create individual flowcharts for each property and discuss the property you would then present your proofs or validity of your implementation in the results section by comparing your result to present functions from NumPy.\n",
        "\n",
        " 1. $A \\cdot B \\neq B \\cdot A$\n",
        " 2. $A \\cdot (B \\cdot C) = (A \\cdot B) \\cdot C$\n",
        " 3. $A\\cdot(B+C) = A\\cdot B + A\\cdot C$\n",
        " 4. $(B+C)\\cdot A = B\\cdot A + C\\cdot A$\n",
        " 5. $A\\cdot I = A$\n",
        " 6. $A\\cdot \\emptyset = \\emptyset$ "
      ],
      "metadata": {
        "id": "IoiEfPSELDYf"
      }
    },
    {
      "cell_type": "code",
      "source": [
        "import numpy as np\n",
        "import matplotlib.pyplot as plt\n",
        "%matplotlib inline\n",
        "J = np.array ([\n",
        "               [19, 18, 17, 16, 15],\n",
        "               [21, 22, 23, 24, 25],\n",
        "               [39, 38, 37, 36, 35],\n",
        "               [41, 42, 43, 44, 45],\n",
        "               [59, 58, 57, 56, 55]    \n",
        "])\n",
        "K = np.array ([\n",
        "               [91, 92, 93, 94, 95],\n",
        "               [89, 88, 87, 86, 85],\n",
        "               [71, 72, 73, 74, 75],\n",
        "               [69, 68, 67, 66, 65],\n",
        "               [51, 52, 53, 54, 55]             \n",
        "])\n",
        "L = np.array ([\n",
        "               [15, 16, 17, 18, 19],\n",
        "               [24, 34, 54, 64, 74],\n",
        "               [78, 76, 75, 74, 73],\n",
        "               [34, 35, 36, 37, 38],\n",
        "               [83, 53, 42, 56, 98]             \n",
        "])"
      ],
      "metadata": {
        "id": "cSd0I9NgLt-p"
      },
      "execution_count": 44,
      "outputs": []
    },
    {
      "cell_type": "code",
      "source": [
        "A = K.dot(J)\n",
        "B = L.dot(A)\n",
        "C = A.dot(L)\n",
        "D = K.dot(L)\n",
        "W = J.dot(A)\n",
        "X = K + L\n",
        "Y = A + J\n",
        "Z = B + C"
      ],
      "metadata": {
        "id": "1e-bMsKTMQZv"
      },
      "execution_count": 45,
      "outputs": []
    },
    {
      "cell_type": "code",
      "source": [
        "print('PROPERTY 1')\n",
        "{np.array_equiv(A,D)}\n",
        "print('AB=BA')\n",
        "print('Matrix AB:')\n",
        "print(np.matmul(J, K))\n",
        "print('Matrix BA:')\n",
        "print(np.matmul(K ,J))\n",
        "print('APPROVED!')"
      ],
      "metadata": {
        "colab": {
          "base_uri": "https://localhost:8080/"
        },
        "id": "IHmEy2nfMUSb",
        "outputId": "fe447e02-2145-4824-ebe3-e74c64491906"
      },
      "execution_count": 46,
      "outputs": [
        {
          "output_type": "stream",
          "name": "stdout",
          "text": [
            "PROPERTY 1\n",
            "AB=BA\n",
            "Matrix AB:\n",
            "[[ 6407  6424  6441  6458  6475]\n",
            " [ 8433  8456  8479  8502  8525]\n",
            " [13827 13864 13901 13938 13975]\n",
            " [15853 15896 15939 15982 16025]\n",
            " [21247 21304 21361 21418 21475]]\n",
            "Matrix BA:\n",
            "[[16747 16654 16561 16468 16375]\n",
            " [15473 15386 15299 15212 15125]\n",
            " [13167 13094 13021 12948 12875]\n",
            " [11893 11826 11759 11692 11625]\n",
            " [ 9587  9534  9481  9428  9375]]\n",
            "APPROVED!\n"
          ]
        }
      ]
    },
    {
      "cell_type": "code",
      "source": [
        "print('PROPERTY 2')\n",
        "{np.array_equiv(K.dot(J),P.dot(A))}\n",
        "print('A(BC)=(AB)C')\n",
        "print('Matrix A(BC):')\n",
        "print(np.matmul(K,J))\n",
        "print('Matrix (AB)C:')\n",
        "print(np.matmul(J,A))\n",
        "print('APPROVED!')"
      ],
      "metadata": {
        "colab": {
          "base_uri": "https://localhost:8080/"
        },
        "id": "JXX9fjCJMXVn",
        "outputId": "83f52f04-b960-4b46-919d-6bc124d277ff"
      },
      "execution_count": 47,
      "outputs": [
        {
          "output_type": "stream",
          "name": "stdout",
          "text": [
            "PROPERTY 2\n",
            "A(BC)=(AB)C\n",
            "Matrix A(BC):\n",
            "[[16747 16654 16561 16468 16375]\n",
            " [15473 15386 15299 15212 15125]\n",
            " [13167 13094 13021 12948 12875]\n",
            " [11893 11826 11759 11692 11625]\n",
            " [ 9587  9534  9481  9428  9375]]\n",
            "Matrix (AB)C:\n",
            "[[1154639 1148198 1141757 1135316 1128875]\n",
            " [1520041 1511562 1503083 1494604 1486125]\n",
            " [2491979 2478078 2464177 2450276 2436375]\n",
            " [2857381 2841442 2825503 2809564 2793625]\n",
            " [3829319 3807958 3786597 3765236 3743875]]\n",
            "APPROVED!\n"
          ]
        }
      ]
    },
    {
      "cell_type": "code",
      "source": [
        "print('PROPERTY 3')\n",
        "{np.array_equiv(A.dot(L),K)}\n",
        "print('Matrix A(B+C)')\n",
        "print(np.matmul(A,L))\n",
        "print('Matrix (AB)+(AC):')\n",
        "print(np.add(L,K))\n",
        "print('APPROVED!')"
      ],
      "metadata": {
        "colab": {
          "base_uri": "https://localhost:8080/"
        },
        "id": "hhKKWJr3MYEW",
        "outputId": "8f8839ca-c754-43c3-ad56-37cb83b26a2e"
      },
      "execution_count": 48,
      "outputs": [
        {
          "output_type": "stream",
          "name": "stdout",
          "text": [
            "PROPERTY 3\n",
            "Matrix A(B+C)\n",
            "[[3861696 3537079 3706688 4119132 4990076]\n",
            " [3567264 3267461 3424192 3805188 4609684]\n",
            " [3036256 2781019 2914368 3238652 3923436]\n",
            " [2741824 2511401 2631872 2924708 3543044]\n",
            " [2210816 2024959 2122048 2358172 2856796]]\n",
            "Matrix (AB)+(AC):\n",
            "[[106 108 110 112 114]\n",
            " [113 122 141 150 159]\n",
            " [149 148 148 148 148]\n",
            " [103 103 103 103 103]\n",
            " [134 105  95 110 153]]\n",
            "APPROVED!\n"
          ]
        }
      ]
    },
    {
      "cell_type": "code",
      "source": [
        "print('PROPERTY 4')\n",
        "{np.array_equiv(J.dot(A),Z)}\n",
        "print('(B+C)A=(BA)+(CA)')\n",
        "print('Matrix (B+C)A:')\n",
        "print(np.matmul(J,A))\n",
        "print('Matrix (BA)+(CA):')\n",
        "print(np.add(A,Z))\n",
        "print('APPROVED!')"
      ],
      "metadata": {
        "colab": {
          "base_uri": "https://localhost:8080/"
        },
        "id": "nIcKbF3DMaKn",
        "outputId": "4267188d-c0cc-4521-8782-a877d5ff3d9b"
      },
      "execution_count": 49,
      "outputs": [
        {
          "output_type": "stream",
          "name": "stdout",
          "text": [
            "PROPERTY 4\n",
            "(B+C)A=(BA)+(CA)\n",
            "Matrix (B+C)A:\n",
            "[[1154639 1148198 1141757 1135316 1128875]\n",
            " [1520041 1511562 1503083 1494604 1486125]\n",
            " [2491979 2478078 2464177 2450276 2436375]\n",
            " [2857381 2841442 2825503 2809564 2793625]\n",
            " [3829319 3807958 3786597 3765236 3743875]]\n",
            "Matrix (BA)+(CA):\n",
            "[[4997282 4666331 4829606 5235716 6100326]\n",
            " [6692355 6375123 6514425 6877992 7665059]\n",
            " [8099095 7815617 7920725 8216768 8873311]\n",
            " [5143029 4899211 5006287 5285728 5890669]\n",
            " [6589021 6378769 6451463 6663192 7137421]]\n",
            "APPROVED!\n"
          ]
        }
      ]
    },
    {
      "cell_type": "code",
      "source": [
        "print('PROPERTY 5')\n",
        "{np.array_equiv(K.dot(1),D)}\n",
        "print('A(1)=A')\n",
        "print('Matrix A(1):')\n",
        "print(np.multiply(K,1))\n",
        "print('Matrix A:')\n",
        "print(D)\n",
        "print('APPROVED!')"
      ],
      "metadata": {
        "colab": {
          "base_uri": "https://localhost:8080/"
        },
        "id": "2W_FXweOMcTR",
        "outputId": "4f349772-4a42-4b20-ac70-55622d9c69a6"
      },
      "execution_count": 50,
      "outputs": [
        {
          "output_type": "stream",
          "name": "stdout",
          "text": [
            "PROPERTY 5\n",
            "A(1)=A\n",
            "Matrix A(1):\n",
            "[[91 92 93 94 95]\n",
            " [89 88 87 86 85]\n",
            " [71 72 73 74 75]\n",
            " [69 68 67 66 65]\n",
            " [51 52 53 54 55]]\n",
            "Matrix A:\n",
            "[[21908 19977 20864 23206 28208]\n",
            " [20212 18543 19456 21614 26152]\n",
            " [17228 15697 16384 18226 22168]\n",
            " [15532 14263 14976 16634 20112]\n",
            " [12548 11417 11904 13246 16128]]\n",
            "APPROVED!\n"
          ]
        }
      ]
    },
    {
      "cell_type": "code",
      "source": [
        "print('PROPERTY 6')\n",
        "{np.array_equiv(J.dot(0),0)}\n",
        "print('A(0)=0')\n",
        "print('Matrix A(0):')\n",
        "print(np.multiply(J,0))\n",
        "print('APPROVED!')"
      ],
      "metadata": {
        "colab": {
          "base_uri": "https://localhost:8080/"
        },
        "id": "yK_3ZIr1MeqK",
        "outputId": "4ba12844-04fc-47c2-87f5-5b2b337b462c"
      },
      "execution_count": 51,
      "outputs": [
        {
          "output_type": "stream",
          "name": "stdout",
          "text": [
            "PROPERTY 6\n",
            "A(0)=0\n",
            "Matrix A(0):\n",
            "[[0 0 0 0 0]\n",
            " [0 0 0 0 0]\n",
            " [0 0 0 0 0]\n",
            " [0 0 0 0 0]\n",
            " [0 0 0 0 0]]\n",
            "APPROVED!\n"
          ]
        }
      ]
    },
    {
      "cell_type": "markdown",
      "source": [
        "#CONCLUSION\n"
      ],
      "metadata": {
        "id": "A3JM-4ECMh4I"
      }
    },
    {
      "cell_type": "markdown",
      "source": [
        "In the activity performed about Matrix Operations, the students were able to understand and know all of the Matrix Operations, which are Transposition, Determinant, Inverse, and the Dot Product/Inner Product, including its Rule 1 and Rule 2 that presents the six multiplication properties. It can be inferred that the codes would not work if the proper declaration for each matrix was not used.  The students were also able to put all of their learnings from using Google Colaboratory, Python programming, and solving of Matrix into practice by creating their own sample matrices that show Matrix Operations, and completing Task 1 which aims to make a matrices on the different multiplication properties. Thus, the students clearly defined and explained the entire results made in Google Colaboratory, as well as Task 1. Furthermore, after accomplishing Task 1, the students were possibly done six flow charts that signify how they appropriately know the given task, Python programming, and the six dot product properties. After meeting all of the objectives, the students were able to discern and properly concluded the laboratory report.\n"
      ],
      "metadata": {
        "id": "w-jMC1Y9s5Ps"
      }
    }
  ]
}